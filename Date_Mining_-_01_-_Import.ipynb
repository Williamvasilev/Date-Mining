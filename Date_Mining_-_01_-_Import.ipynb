{
 "cells": [
  {
   "cell_type": "markdown",
   "id": "050d6187-b3cc-4595-a19d-2b7f6c878742",
   "metadata": {},
   "source": [
    "# Date Mining -01- Import"
   ]
  },
  {
   "cell_type": "markdown",
   "id": "069eb604-7504-4ab2-bf9f-60586400af82",
   "metadata": {},
   "source": [
    "### Setup"
   ]
  },
  {
   "cell_type": "code",
   "execution_count": 1,
   "id": "535a3761-5ff8-4b2c-922c-804f10726b19",
   "metadata": {
    "tags": []
   },
   "outputs": [],
   "source": [
    "import numpy as np\n",
    "import pandas as pd\n",
    "\n",
    "from IPython.display import display, Markdown\n",
    "pd.set_option(\"max_colwidth\", 1000)\n",
    "\n",
    "import os,re"
   ]
  },
  {
   "cell_type": "code",
   "execution_count": 2,
   "id": "f90df86a-2544-4e1b-8e1d-b8377fdf3336",
   "metadata": {
    "tags": []
   },
   "outputs": [],
   "source": [
    "for d in ['data','output']:\n",
    "    os.makedirs(d, exist_ok=True)"
   ]
  },
  {
   "cell_type": "code",
   "execution_count": 3,
   "id": "b317f517-14d5-400d-8205-ac9d77f3b956",
   "metadata": {
    "tags": []
   },
   "outputs": [
    {
     "name": "stdout",
     "output_type": "stream",
     "text": [
      "Using local copy ..\n"
     ]
    }
   ],
   "source": [
    "url = \"https://setu-datamining2.github.io/live/topics/21-Assignments/03-Mining_Dates/files/public.csv\"\n",
    "\n",
    "if os.path.isfile(\"data/public.csv\"):\n",
    "    print(\"Using local copy ..\")\n",
    "else:\n",
    "    print(\"Downloading ..\")\n",
    "    df = pd.read_csv(url)\n",
    "    df.to_csv(\"data/public.csv\", index=False)"
   ]
  },
  {
   "cell_type": "markdown",
   "id": "85c4084d-dde1-44e7-a246-66737a7c7017",
   "metadata": {},
   "source": [
    "### Dataset"
   ]
  },
  {
   "cell_type": "code",
   "execution_count": 4,
   "id": "45aa16ca-73c7-4c08-897d-a20bc5b9c4bd",
   "metadata": {
    "tags": []
   },
   "outputs": [
    {
     "name": "stdout",
     "output_type": "stream",
     "text": [
      "(715, 2)\n"
     ]
    },
    {
     "data": {
      "text/html": [
       "<div>\n",
       "<style scoped>\n",
       "    .dataframe tbody tr th:only-of-type {\n",
       "        vertical-align: middle;\n",
       "    }\n",
       "\n",
       "    .dataframe tbody tr th {\n",
       "        vertical-align: top;\n",
       "    }\n",
       "\n",
       "    .dataframe thead th {\n",
       "        text-align: right;\n",
       "    }\n",
       "</style>\n",
       "<table border=\"1\" class=\"dataframe\">\n",
       "  <thead>\n",
       "    <tr style=\"text-align: right;\">\n",
       "      <th></th>\n",
       "      <th>Code</th>\n",
       "      <th>Raw</th>\n",
       "    </tr>\n",
       "  </thead>\n",
       "  <tbody>\n",
       "    <tr>\n",
       "      <th>0</th>\n",
       "      <td>1012720972</td>\n",
       "      <td>.12, Noember 16- bad reaction to SpiceK2 - synthetic MJ- admitted to Crete Manor, Mcalester.</td>\n",
       "    </tr>\n",
       "    <tr>\n",
       "      <th>1</th>\n",
       "      <td>1039370009</td>\n",
       "      <td>.April, 5 97: made a phone call to Mom and Mom commented that he was talking very fast, hard to interrupt, but was in super happy spirits, so didn't make a big deal of it.</td>\n",
       "    </tr>\n",
       "    <tr>\n",
       "      <th>2</th>\n",
       "      <td>1039574613</td>\n",
       "      <td>A pleasant 28 yo woman with no formal psychiatric history and with a h/o SCCA of the right tongue (s/p partial glossectomy and neck dissection in 8/1974) referred to psycho-oncology for assistance with adjustment issues following recovery. The patient does not meet criteria for a major mood or anxiety disorder. She is not at imminent risk of harm to self or others. She would benefit from psychotherapy to help her integrate her experience of cancer and the break-up of her engagement, and to think through how to continue to create a life for herself moving forward.</td>\n",
       "    </tr>\n",
       "    <tr>\n",
       "      <th>3</th>\n",
       "      <td>1039963589</td>\n",
       "      <td>October 7, 01 [report_end]</td>\n",
       "    </tr>\n",
       "    <tr>\n",
       "      <th>4</th>\n",
       "      <td>1048901075</td>\n",
       "      <td>July, 4, 01 Primary Care Doctor:</td>\n",
       "    </tr>\n",
       "    <tr>\n",
       "      <th>5</th>\n",
       "      <td>1054311047</td>\n",
       "      <td>)and 8mo in 2009</td>\n",
       "    </tr>\n",
       "    <tr>\n",
       "      <th>6</th>\n",
       "      <td>1054668034</td>\n",
       "      <td>)HTN, hypercholesterolemia, DM, sleep apnea,, nephrolithiasis. chronic renal impairment, DVT since July 1977 on enoxaparin.</td>\n",
       "    </tr>\n",
       "    <tr>\n",
       "      <th>7</th>\n",
       "      <td>1082469285</td>\n",
       "      <td>Septeber, 10, 70 CPT Code: 90792: With medical services</td>\n",
       "    </tr>\n",
       "    <tr>\n",
       "      <th>8</th>\n",
       "      <td>1125769793</td>\n",
       "      <td>Since 10/2014: Fatigued, more forgetful, impaired dexterity on her left hand. MRI reveals an approximately 4.2cm x 3.3cm x 2.5cm right parietal enhancing mass with surrounding edema</td>\n",
       "    </tr>\n",
       "    <tr>\n",
       "      <th>9</th>\n",
       "      <td>1148116416</td>\n",
       "      <td>24 yo right handed woman with history of large right frontal mass s/p resection 11/3/1985 who had recent urgent R cranial wound revision and placement of L EVD for declining vision and increased drainage from craniotomy incision site and possible infection. She has a hx of secondary mania related to psychosis and manipulation of her right frontal lobe.</td>\n",
       "    </tr>\n",
       "  </tbody>\n",
       "</table>\n",
       "</div>"
      ],
      "text/plain": [
       "         Code  \\\n",
       "0  1012720972   \n",
       "1  1039370009   \n",
       "2  1039574613   \n",
       "3  1039963589   \n",
       "4  1048901075   \n",
       "5  1054311047   \n",
       "6  1054668034   \n",
       "7  1082469285   \n",
       "8  1125769793   \n",
       "9  1148116416   \n",
       "\n",
       "                                                                                                                                                                                                                                                                                                                                                                                                                                                                                                                                                                                         Raw  \n",
       "0                                                                                                                                                                                                                                                                                                                                                                                                                                                                                               .12, Noember 16- bad reaction to SpiceK2 - synthetic MJ- admitted to Crete Manor, Mcalester.  \n",
       "1                                                                                                                                                                                                                                                                                                                                                                                                                .April, 5 97: made a phone call to Mom and Mom commented that he was talking very fast, hard to interrupt, but was in super happy spirits, so didn't make a big deal of it.  \n",
       "2  A pleasant 28 yo woman with no formal psychiatric history and with a h/o SCCA of the right tongue (s/p partial glossectomy and neck dissection in 8/1974) referred to psycho-oncology for assistance with adjustment issues following recovery. The patient does not meet criteria for a major mood or anxiety disorder. She is not at imminent risk of harm to self or others. She would benefit from psychotherapy to help her integrate her experience of cancer and the break-up of her engagement, and to think through how to continue to create a life for herself moving forward.  \n",
       "3                                                                                                                                                                                                                                                                                                                                                                                                                                                                                                                                                                 October 7, 01 [report_end]  \n",
       "4                                                                                                                                                                                                                                                                                                                                                                                                                                                                                                                                                           July, 4, 01 Primary Care Doctor:  \n",
       "5                                                                                                                                                                                                                                                                                                                                                                                                                                                                                                                                                                           )and 8mo in 2009  \n",
       "6                                                                                                                                                                                                                                                                                                                                                                                                                                                                )HTN, hypercholesterolemia, DM, sleep apnea,, nephrolithiasis. chronic renal impairment, DVT since July 1977 on enoxaparin.  \n",
       "7                                                                                                                                                                                                                                                                                                                                                                                                                                                                                                                                    Septeber, 10, 70 CPT Code: 90792: With medical services  \n",
       "8                                                                                                                                                                                                                                                                                                                                                                                                      Since 10/2014: Fatigued, more forgetful, impaired dexterity on her left hand. MRI reveals an approximately 4.2cm x 3.3cm x 2.5cm right parietal enhancing mass with surrounding edema  \n",
       "9                                                                                                                                                                                                                         24 yo right handed woman with history of large right frontal mass s/p resection 11/3/1985 who had recent urgent R cranial wound revision and placement of L EVD for declining vision and increased drainage from craniotomy incision site and possible infection. She has a hx of secondary mania related to psychosis and manipulation of her right frontal lobe.  "
      ]
     },
     "execution_count": 4,
     "metadata": {},
     "output_type": "execute_result"
    }
   ],
   "source": [
    "df = pd.read_csv(\"data/public.csv\")\n",
    "print(df.shape)\n",
    "df.head(10)"
   ]
  },
  {
   "cell_type": "markdown",
   "id": "45c8393c-7976-4ec9-8be3-3066453f52ad",
   "metadata": {},
   "source": [
    "### Import/Clean\n",
    "Algorithm\n",
    "* Clean data first to reduce number of regexs needed\n",
    "* Build sequence of regexs (Starting with most restrictive)\n",
    "* For each regex, numbered 1,2,3,...\n",
    " * Find rows that match\n",
    " * Extract day month and year\n",
    " * Update df"
   ]
  },
  {
   "cell_type": "code",
   "execution_count": 5,
   "id": "cfc767f9-7b2c-4a4f-830b-7f18ff888395",
   "metadata": {
    "tags": []
   },
   "outputs": [],
   "source": [
    "def clean(s):\n",
    "    return s"
   ]
  },
  {
   "cell_type": "code",
   "execution_count": 6,
   "id": "39694ed8-5dd7-4a64-b045-8e1332bcc06e",
   "metadata": {
    "tags": []
   },
   "outputs": [],
   "source": [
    "df['Data'] = df.Raw.apply(clean)\n",
    "df['Iter'] = 0\n",
    "df['Day'] = 0\n",
    "df['Month'] = 0\n",
    "df['Year'] = 0\n",
    "df['Date'] = 0"
   ]
  },
  {
   "cell_type": "markdown",
   "id": "e185e7de-ff57-4720-b7dd-13182402a1df",
   "metadata": {},
   "source": [
    "### Helper functions"
   ]
  },
  {
   "cell_type": "code",
   "execution_count": 7,
   "id": "5c255823-2b83-402a-8477-2fc24df57481",
   "metadata": {
    "tags": []
   },
   "outputs": [],
   "source": [
    "month_map = {\n",
    "    'Jan': '01', 'January': '01',\n",
    "    'Feb': '02', 'February': '02',\n",
    "    'Mar': '03', 'March': '03',\n",
    "    'Apr': '04', 'April': '04',\n",
    "    'May': '05',\n",
    "    'Jun': '06', 'June': '06',\n",
    "    'Jul': '07', 'July': '07',\n",
    "    'Aug': '08', 'August': '08',\n",
    "    'Sep': '09', 'September': '09',\n",
    "    'Oct': '10', 'October': '10',\n",
    "    'Nov': '11', 'November': '11',\n",
    "    'Dec': '12', 'December': '12'\n",
    "}"
   ]
  },
  {
   "cell_type": "code",
   "execution_count": 8,
   "id": "17ebe77d-3a13-4a8d-a982-26027f6a6cbc",
   "metadata": {
    "tags": []
   },
   "outputs": [],
   "source": [
    "from fuzzywuzzy import process\n",
    "\n",
    "# Function to convert word months to numbers\n",
    "def convert_word_month_to_number(month_str):\n",
    "    # Check if the month string is in the month map\n",
    "    if month_str in month_map:\n",
    "        return month_map[month_str]\n",
    "    else:\n",
    "        # If not, find the closest match using fuzzy string matching\n",
    "        closest_match = process.extractOne(month_str, month_map.keys())[0]\n",
    "        return month_map[closest_match]"
   ]
  },
  {
   "cell_type": "code",
   "execution_count": 9,
   "id": "47be2657-d0ee-4365-a5e0-a105561875eb",
   "metadata": {
    "tags": []
   },
   "outputs": [],
   "source": [
    "def info(n=None, show_unmatched=True, nrow=5):\n",
    "    \"Helper function to display results of a match and some rows not matched so far.\"\n",
    "    \n",
    "    n = df.Iter.max() if n is None else n\n",
    "    for nn in ([n,0] if n!=0 and show_unmatched else [n]):\n",
    "        display(Markdown(\"**Numer of rows with iter=%s: %s**\" % (nn,len(df[df.Iter==nn]))))\n",
    "        display(df.loc[df.Iter==nn,[\"Code\",\"Data\", \"Iter\", \"Day\", \"Month\", \"Year\"]].head(nrow))"
   ]
  },
  {
   "cell_type": "code",
   "execution_count": 10,
   "id": "a8129f50-b76a-4a00-9aa4-f9c48200cfb9",
   "metadata": {},
   "outputs": [],
   "source": [
    "# Function to convert two-digit years to four-digit years\n",
    "def convert_to_four_digit_year(year):\n",
    "    try:\n",
    "        year = int(year)\n",
    "        if year < 20:\n",
    "            return 2000 + year\n",
    "        elif year < 100:\n",
    "            return 1900 + year\n",
    "        else:\n",
    "            return year\n",
    "    except ValueError:\n",
    "        return np.nan  # Return NaN for non-numeric values"
   ]
  },
  {
   "cell_type": "code",
   "execution_count": 11,
   "id": "1cbb4cf6-abdc-4078-8ce0-19b88fab54b0",
   "metadata": {},
   "outputs": [],
   "source": [
    "def verify(df_tmp):\n",
    "    # Convert 'Year' column to int if it contains numeric values\n",
    "    if pd.api.types.is_numeric_dtype(df_tmp['Year']):\n",
    "        df_tmp['Year'] = pd.to_numeric(df_tmp['Year'], errors='coerce')\n",
    "    \n",
    "    # Convert two-digit years to four-digit years\n",
    "    df_tmp['Year'] = df_tmp['Year'].apply(convert_to_four_digit_year)\n",
    "    \n",
    "    # If 'Day' column is present, fill missing values with 1\n",
    "    if 'Day' in df_tmp.columns:\n",
    "        df_tmp['Day'].fillna(1, inplace=True)\n",
    "    else:\n",
    "        df_tmp['Day'] = 1\n",
    "    \n",
    "    # If 'Month' column is present, fill missing values with 1 (January)\n",
    "    if 'Month' in df_tmp.columns:\n",
    "        df_tmp['Month'].fillna(1, inplace=True)\n",
    "    else:\n",
    "        df_tmp['Month'] = 1\n",
    "    \n",
    "    return df_tmp"
   ]
  },
  {
   "cell_type": "markdown",
   "id": "90a136d2-b571-416c-b30e-89aebd0be994",
   "metadata": {},
   "source": [
    "### 'mm/dd/yyyy'"
   ]
  },
  {
   "cell_type": "code",
   "execution_count": 12,
   "id": "23a4f0cb-0291-4645-b663-eb06ca127dbb",
   "metadata": {
    "tags": []
   },
   "outputs": [],
   "source": [
    "iter = 0\n",
    "columns = ['Month', 'Day', 'Year']"
   ]
  },
  {
   "cell_type": "code",
   "execution_count": 13,
   "id": "ca01bf25-9f81-474c-ac30-5c78130e1196",
   "metadata": {
    "tags": []
   },
   "outputs": [],
   "source": [
    "# Regular expression for numeric dates with inconsistent field separators\n",
    "regex_numeric_dates = r\"(\\d{1,2})[-/](\\d{1,2})[-/](\\d{2,4})\"\n"
   ]
  },
  {
   "cell_type": "code",
   "execution_count": 14,
   "id": "ecbb7947-921e-4361-b083-acb0b081a0be",
   "metadata": {
    "tags": []
   },
   "outputs": [],
   "source": [
    "# Apply the regex to extract date components\n",
    "df_numeric_dates = df[df.Iter == 0].Data.str.extract(regex_numeric_dates)\n",
    "df_numeric_dates.dropna(inplace=True)\n",
    "df_numeric_dates.columns = columns"
   ]
  },
  {
   "cell_type": "code",
   "execution_count": 15,
   "id": "969b6c2e-2d6f-4a93-9df7-a7e7a704b790",
   "metadata": {
    "tags": []
   },
   "outputs": [
    {
     "name": "stdout",
     "output_type": "stream",
     "text": [
      "Number of rows matched = 124\n"
     ]
    },
    {
     "data": {
      "text/html": [
       "<div>\n",
       "<style scoped>\n",
       "    .dataframe tbody tr th:only-of-type {\n",
       "        vertical-align: middle;\n",
       "    }\n",
       "\n",
       "    .dataframe tbody tr th {\n",
       "        vertical-align: top;\n",
       "    }\n",
       "\n",
       "    .dataframe thead th {\n",
       "        text-align: right;\n",
       "    }\n",
       "</style>\n",
       "<table border=\"1\" class=\"dataframe\">\n",
       "  <thead>\n",
       "    <tr style=\"text-align: right;\">\n",
       "      <th></th>\n",
       "      <th>Month</th>\n",
       "      <th>Day</th>\n",
       "      <th>Year</th>\n",
       "    </tr>\n",
       "  </thead>\n",
       "  <tbody>\n",
       "    <tr>\n",
       "      <th>9</th>\n",
       "      <td>11</td>\n",
       "      <td>3</td>\n",
       "      <td>1985</td>\n",
       "    </tr>\n",
       "    <tr>\n",
       "      <th>10</th>\n",
       "      <td>4</td>\n",
       "      <td>19</td>\n",
       "      <td>91</td>\n",
       "    </tr>\n",
       "    <tr>\n",
       "      <th>14</th>\n",
       "      <td>07</td>\n",
       "      <td>29</td>\n",
       "      <td>1994</td>\n",
       "    </tr>\n",
       "    <tr>\n",
       "      <th>16</th>\n",
       "      <td>6</td>\n",
       "      <td>10</td>\n",
       "      <td>72</td>\n",
       "    </tr>\n",
       "    <tr>\n",
       "      <th>18</th>\n",
       "      <td>6</td>\n",
       "      <td>18</td>\n",
       "      <td>85</td>\n",
       "    </tr>\n",
       "  </tbody>\n",
       "</table>\n",
       "</div>"
      ],
      "text/plain": [
       "   Month Day  Year\n",
       "9     11   3  1985\n",
       "10     4  19    91\n",
       "14    07  29  1994\n",
       "16     6  10    72\n",
       "18     6  18    85"
      ]
     },
     "execution_count": 15,
     "metadata": {},
     "output_type": "execute_result"
    }
   ],
   "source": [
    "print(f\"Number of rows matched = {df_numeric_dates.shape[0]}\")\n",
    "df_numeric_dates.head()"
   ]
  },
  {
   "cell_type": "code",
   "execution_count": 16,
   "id": "26b50660-1023-4047-bce5-e1194ee0663d",
   "metadata": {
    "tags": []
   },
   "outputs": [],
   "source": [
    "# Verify date components\n",
    "df_numeric_dates = verify(df_numeric_dates)"
   ]
  },
  {
   "cell_type": "code",
   "execution_count": 17,
   "id": "fcfc8762-ae2f-4836-ac8a-8c263fa88fb4",
   "metadata": {
    "tags": []
   },
   "outputs": [],
   "source": [
    "# Convert 'Year' column to numeric\n",
    "df_numeric_dates['Year'] = pd.to_numeric(df_numeric_dates['Year'], errors='coerce')"
   ]
  },
  {
   "cell_type": "code",
   "execution_count": 18,
   "id": "a66dba36-0587-489f-b465-06367ab329a2",
   "metadata": {
    "tags": []
   },
   "outputs": [
    {
     "data": {
      "text/markdown": [
       "**Numer of rows with iter=1: 124**"
      ],
      "text/plain": [
       "<IPython.core.display.Markdown object>"
      ]
     },
     "metadata": {},
     "output_type": "display_data"
    },
    {
     "data": {
      "text/html": [
       "<div>\n",
       "<style scoped>\n",
       "    .dataframe tbody tr th:only-of-type {\n",
       "        vertical-align: middle;\n",
       "    }\n",
       "\n",
       "    .dataframe tbody tr th {\n",
       "        vertical-align: top;\n",
       "    }\n",
       "\n",
       "    .dataframe thead th {\n",
       "        text-align: right;\n",
       "    }\n",
       "</style>\n",
       "<table border=\"1\" class=\"dataframe\">\n",
       "  <thead>\n",
       "    <tr style=\"text-align: right;\">\n",
       "      <th></th>\n",
       "      <th>Code</th>\n",
       "      <th>Data</th>\n",
       "      <th>Iter</th>\n",
       "      <th>Day</th>\n",
       "      <th>Month</th>\n",
       "      <th>Year</th>\n",
       "    </tr>\n",
       "  </thead>\n",
       "  <tbody>\n",
       "    <tr>\n",
       "      <th>9</th>\n",
       "      <td>1148116416</td>\n",
       "      <td>24 yo right handed woman with history of large right frontal mass s/p resection 11/3/1985 who had recent urgent R cranial wound revision and placement of L EVD for declining vision and increased drainage from craniotomy incision site and possible infection. She has a hx of secondary mania related to psychosis and manipulation of her right frontal lobe.</td>\n",
       "      <td>1</td>\n",
       "      <td>3</td>\n",
       "      <td>11</td>\n",
       "      <td>1985</td>\n",
       "    </tr>\n",
       "    <tr>\n",
       "      <th>10</th>\n",
       "      <td>1157934136</td>\n",
       "      <td>4/19/91 Communication with referring physician?: Not Done</td>\n",
       "      <td>1</td>\n",
       "      <td>19</td>\n",
       "      <td>4</td>\n",
       "      <td>1991</td>\n",
       "    </tr>\n",
       "    <tr>\n",
       "      <th>14</th>\n",
       "      <td>1191233809</td>\n",
       "      <td>07/29/1994 CPT code: 99203</td>\n",
       "      <td>1</td>\n",
       "      <td>29</td>\n",
       "      <td>07</td>\n",
       "      <td>1994</td>\n",
       "    </tr>\n",
       "    <tr>\n",
       "      <th>16</th>\n",
       "      <td>1218956332</td>\n",
       "      <td>6/10/72 SOS-10 Total Score:</td>\n",
       "      <td>1</td>\n",
       "      <td>10</td>\n",
       "      <td>6</td>\n",
       "      <td>1972</td>\n",
       "    </tr>\n",
       "    <tr>\n",
       "      <th>18</th>\n",
       "      <td>1220889324</td>\n",
       "      <td>6/18/85 Primary Care Doctor:</td>\n",
       "      <td>1</td>\n",
       "      <td>18</td>\n",
       "      <td>6</td>\n",
       "      <td>1985</td>\n",
       "    </tr>\n",
       "  </tbody>\n",
       "</table>\n",
       "</div>"
      ],
      "text/plain": [
       "          Code  \\\n",
       "9   1148116416   \n",
       "10  1157934136   \n",
       "14  1191233809   \n",
       "16  1218956332   \n",
       "18  1220889324   \n",
       "\n",
       "                                                                                                                                                                                                                                                                                                                                                                  Data  \\\n",
       "9   24 yo right handed woman with history of large right frontal mass s/p resection 11/3/1985 who had recent urgent R cranial wound revision and placement of L EVD for declining vision and increased drainage from craniotomy incision site and possible infection. She has a hx of secondary mania related to psychosis and manipulation of her right frontal lobe.   \n",
       "10                                                                                                                                                                                                                                                                                                           4/19/91 Communication with referring physician?: Not Done   \n",
       "14                                                                                                                                                                                                                                                                                                                                          07/29/1994 CPT code: 99203   \n",
       "16                                                                                                                                                                                                                                                                                                                                         6/10/72 SOS-10 Total Score:   \n",
       "18                                                                                                                                                                                                                                                                                                                                        6/18/85 Primary Care Doctor:   \n",
       "\n",
       "    Iter Day Month  Year  \n",
       "9      1   3    11  1985  \n",
       "10     1  19     4  1991  \n",
       "14     1  29    07  1994  \n",
       "16     1  10     6  1972  \n",
       "18     1  18     6  1985  "
      ]
     },
     "metadata": {},
     "output_type": "display_data"
    },
    {
     "data": {
      "text/markdown": [
       "**Numer of rows with iter=0: 591**"
      ],
      "text/plain": [
       "<IPython.core.display.Markdown object>"
      ]
     },
     "metadata": {},
     "output_type": "display_data"
    },
    {
     "data": {
      "text/html": [
       "<div>\n",
       "<style scoped>\n",
       "    .dataframe tbody tr th:only-of-type {\n",
       "        vertical-align: middle;\n",
       "    }\n",
       "\n",
       "    .dataframe tbody tr th {\n",
       "        vertical-align: top;\n",
       "    }\n",
       "\n",
       "    .dataframe thead th {\n",
       "        text-align: right;\n",
       "    }\n",
       "</style>\n",
       "<table border=\"1\" class=\"dataframe\">\n",
       "  <thead>\n",
       "    <tr style=\"text-align: right;\">\n",
       "      <th></th>\n",
       "      <th>Code</th>\n",
       "      <th>Data</th>\n",
       "      <th>Iter</th>\n",
       "      <th>Day</th>\n",
       "      <th>Month</th>\n",
       "      <th>Year</th>\n",
       "    </tr>\n",
       "  </thead>\n",
       "  <tbody>\n",
       "    <tr>\n",
       "      <th>0</th>\n",
       "      <td>1012720972</td>\n",
       "      <td>.12, Noember 16- bad reaction to SpiceK2 - synthetic MJ- admitted to Crete Manor, Mcalester.</td>\n",
       "      <td>0</td>\n",
       "      <td>0</td>\n",
       "      <td>0</td>\n",
       "      <td>0</td>\n",
       "    </tr>\n",
       "    <tr>\n",
       "      <th>1</th>\n",
       "      <td>1039370009</td>\n",
       "      <td>.April, 5 97: made a phone call to Mom and Mom commented that he was talking very fast, hard to interrupt, but was in super happy spirits, so didn't make a big deal of it.</td>\n",
       "      <td>0</td>\n",
       "      <td>0</td>\n",
       "      <td>0</td>\n",
       "      <td>0</td>\n",
       "    </tr>\n",
       "    <tr>\n",
       "      <th>2</th>\n",
       "      <td>1039574613</td>\n",
       "      <td>A pleasant 28 yo woman with no formal psychiatric history and with a h/o SCCA of the right tongue (s/p partial glossectomy and neck dissection in 8/1974) referred to psycho-oncology for assistance with adjustment issues following recovery. The patient does not meet criteria for a major mood or anxiety disorder. She is not at imminent risk of harm to self or others. She would benefit from psychotherapy to help her integrate her experience of cancer and the break-up of her engagement, and to think through how to continue to create a life for herself moving forward.</td>\n",
       "      <td>0</td>\n",
       "      <td>0</td>\n",
       "      <td>0</td>\n",
       "      <td>0</td>\n",
       "    </tr>\n",
       "    <tr>\n",
       "      <th>3</th>\n",
       "      <td>1039963589</td>\n",
       "      <td>October 7, 01 [report_end]</td>\n",
       "      <td>0</td>\n",
       "      <td>0</td>\n",
       "      <td>0</td>\n",
       "      <td>0</td>\n",
       "    </tr>\n",
       "    <tr>\n",
       "      <th>4</th>\n",
       "      <td>1048901075</td>\n",
       "      <td>July, 4, 01 Primary Care Doctor:</td>\n",
       "      <td>0</td>\n",
       "      <td>0</td>\n",
       "      <td>0</td>\n",
       "      <td>0</td>\n",
       "    </tr>\n",
       "  </tbody>\n",
       "</table>\n",
       "</div>"
      ],
      "text/plain": [
       "         Code  \\\n",
       "0  1012720972   \n",
       "1  1039370009   \n",
       "2  1039574613   \n",
       "3  1039963589   \n",
       "4  1048901075   \n",
       "\n",
       "                                                                                                                                                                                                                                                                                                                                                                                                                                                                                                                                                                                        Data  \\\n",
       "0                                                                                                                                                                                                                                                                                                                                                                                                                                                                                               .12, Noember 16- bad reaction to SpiceK2 - synthetic MJ- admitted to Crete Manor, Mcalester.   \n",
       "1                                                                                                                                                                                                                                                                                                                                                                                                                .April, 5 97: made a phone call to Mom and Mom commented that he was talking very fast, hard to interrupt, but was in super happy spirits, so didn't make a big deal of it.   \n",
       "2  A pleasant 28 yo woman with no formal psychiatric history and with a h/o SCCA of the right tongue (s/p partial glossectomy and neck dissection in 8/1974) referred to psycho-oncology for assistance with adjustment issues following recovery. The patient does not meet criteria for a major mood or anxiety disorder. She is not at imminent risk of harm to self or others. She would benefit from psychotherapy to help her integrate her experience of cancer and the break-up of her engagement, and to think through how to continue to create a life for herself moving forward.   \n",
       "3                                                                                                                                                                                                                                                                                                                                                                                                                                                                                                                                                                 October 7, 01 [report_end]   \n",
       "4                                                                                                                                                                                                                                                                                                                                                                                                                                                                                                                                                           July, 4, 01 Primary Care Doctor:   \n",
       "\n",
       "   Iter Day Month  Year  \n",
       "0     0   0     0     0  \n",
       "1     0   0     0     0  \n",
       "2     0   0     0     0  \n",
       "3     0   0     0     0  \n",
       "4     0   0     0     0  "
      ]
     },
     "metadata": {},
     "output_type": "display_data"
    }
   ],
   "source": [
    "# Filter rows where 'Year' is not NaN and greater than 0\n",
    "criteria = (df.Iter == 0) & (df_numeric_dates['Year'].notna()) & (df_numeric_dates['Year'] > 0)\n",
    "df.loc[criteria, columns] = df_numeric_dates[columns]\n",
    "df.loc[criteria, 'Iter'] = iter + 1\n",
    "\n",
    "info()"
   ]
  },
  {
   "cell_type": "code",
   "execution_count": null,
   "id": "34a68134-5952-4902-9fe7-fc8a837eb342",
   "metadata": {},
   "outputs": [],
   "source": []
  },
  {
   "cell_type": "code",
   "execution_count": 19,
   "id": "969b7ece-d42b-48fb-8b37-322f3e6f5974",
   "metadata": {
    "tags": []
   },
   "outputs": [],
   "source": [
    "# Regular expression for inconsistent month names and separators\n",
    "regex_inconsistent_month = r\"(\\w{3,})[-\\s.]*([0-9]{1,2})[-,\\s]+(\\d{2,4})\""
   ]
  },
  {
   "cell_type": "code",
   "execution_count": 20,
   "id": "d146b215-1658-421b-a56d-0bf6118720be",
   "metadata": {
    "tags": []
   },
   "outputs": [],
   "source": [
    "# Apply the regex to extract date components\n",
    "df_inconsistent_month = df[df.Iter == 0].Data.str.extract(regex_inconsistent_month)\n",
    "df_inconsistent_month.dropna(inplace=True)\n",
    "df_inconsistent_month.columns = columns"
   ]
  },
  {
   "cell_type": "code",
   "execution_count": 21,
   "id": "43ec8b89-3008-4ec4-bf74-52b635133185",
   "metadata": {
    "tags": []
   },
   "outputs": [],
   "source": [
    "# Apply the conversion function to the 'Month' column\n",
    "df_inconsistent_month['Month'] = df_inconsistent_month['Month'].apply(convert_word_month_to_number)"
   ]
  },
  {
   "cell_type": "code",
   "execution_count": 22,
   "id": "6969890e-c34a-4e27-bf91-c20f126ee848",
   "metadata": {
    "tags": []
   },
   "outputs": [
    {
     "name": "stdout",
     "output_type": "stream",
     "text": [
      "Number of rows matched = 119\n"
     ]
    },
    {
     "data": {
      "text/html": [
       "<div>\n",
       "<style scoped>\n",
       "    .dataframe tbody tr th:only-of-type {\n",
       "        vertical-align: middle;\n",
       "    }\n",
       "\n",
       "    .dataframe tbody tr th {\n",
       "        vertical-align: top;\n",
       "    }\n",
       "\n",
       "    .dataframe thead th {\n",
       "        text-align: right;\n",
       "    }\n",
       "</style>\n",
       "<table border=\"1\" class=\"dataframe\">\n",
       "  <thead>\n",
       "    <tr style=\"text-align: right;\">\n",
       "      <th></th>\n",
       "      <th>Month</th>\n",
       "      <th>Day</th>\n",
       "      <th>Year</th>\n",
       "    </tr>\n",
       "  </thead>\n",
       "  <tbody>\n",
       "    <tr>\n",
       "      <th>3</th>\n",
       "      <td>10</td>\n",
       "      <td>7</td>\n",
       "      <td>01</td>\n",
       "    </tr>\n",
       "    <tr>\n",
       "      <th>26</th>\n",
       "      <td>06</td>\n",
       "      <td>28</td>\n",
       "      <td>72</td>\n",
       "    </tr>\n",
       "    <tr>\n",
       "      <th>31</th>\n",
       "      <td>01</td>\n",
       "      <td>2</td>\n",
       "      <td>000</td>\n",
       "    </tr>\n",
       "    <tr>\n",
       "      <th>38</th>\n",
       "      <td>06</td>\n",
       "      <td>24</td>\n",
       "      <td>77</td>\n",
       "    </tr>\n",
       "    <tr>\n",
       "      <th>39</th>\n",
       "      <td>09</td>\n",
       "      <td>15</td>\n",
       "      <td>2011</td>\n",
       "    </tr>\n",
       "  </tbody>\n",
       "</table>\n",
       "</div>"
      ],
      "text/plain": [
       "   Month Day  Year\n",
       "3     10   7    01\n",
       "26    06  28    72\n",
       "31    01   2   000\n",
       "38    06  24    77\n",
       "39    09  15  2011"
      ]
     },
     "execution_count": 22,
     "metadata": {},
     "output_type": "execute_result"
    }
   ],
   "source": [
    "print(f\"Number of rows matched = {df_inconsistent_month.shape[0]}\")\n",
    "df_inconsistent_month.head()"
   ]
  },
  {
   "cell_type": "code",
   "execution_count": 23,
   "id": "185d3d6a-6e38-4707-bc81-0372ae7a2669",
   "metadata": {
    "tags": []
   },
   "outputs": [],
   "source": [
    "# Verify date components\n",
    "df_inconsistent_month = verify(df_inconsistent_month)"
   ]
  },
  {
   "cell_type": "code",
   "execution_count": 24,
   "id": "a9e5cea5-fa10-4175-add4-ed76f92a776e",
   "metadata": {
    "tags": []
   },
   "outputs": [],
   "source": [
    "# Convert 'Year' column to numeric\n",
    "df_inconsistent_month['Year'] = pd.to_numeric(df_inconsistent_month['Year'], errors='coerce')"
   ]
  },
  {
   "cell_type": "code",
   "execution_count": 25,
   "id": "b5c795d5-1288-4cd2-bdb6-b97469f5c75e",
   "metadata": {
    "tags": []
   },
   "outputs": [
    {
     "data": {
      "text/markdown": [
       "**Numer of rows with iter=1: 243**"
      ],
      "text/plain": [
       "<IPython.core.display.Markdown object>"
      ]
     },
     "metadata": {},
     "output_type": "display_data"
    },
    {
     "data": {
      "text/html": [
       "<div>\n",
       "<style scoped>\n",
       "    .dataframe tbody tr th:only-of-type {\n",
       "        vertical-align: middle;\n",
       "    }\n",
       "\n",
       "    .dataframe tbody tr th {\n",
       "        vertical-align: top;\n",
       "    }\n",
       "\n",
       "    .dataframe thead th {\n",
       "        text-align: right;\n",
       "    }\n",
       "</style>\n",
       "<table border=\"1\" class=\"dataframe\">\n",
       "  <thead>\n",
       "    <tr style=\"text-align: right;\">\n",
       "      <th></th>\n",
       "      <th>Code</th>\n",
       "      <th>Data</th>\n",
       "      <th>Iter</th>\n",
       "      <th>Day</th>\n",
       "      <th>Month</th>\n",
       "      <th>Year</th>\n",
       "    </tr>\n",
       "  </thead>\n",
       "  <tbody>\n",
       "    <tr>\n",
       "      <th>3</th>\n",
       "      <td>1039963589</td>\n",
       "      <td>October 7, 01 [report_end]</td>\n",
       "      <td>1</td>\n",
       "      <td>7</td>\n",
       "      <td>10</td>\n",
       "      <td>2001</td>\n",
       "    </tr>\n",
       "    <tr>\n",
       "      <th>9</th>\n",
       "      <td>1148116416</td>\n",
       "      <td>24 yo right handed woman with history of large right frontal mass s/p resection 11/3/1985 who had recent urgent R cranial wound revision and placement of L EVD for declining vision and increased drainage from craniotomy incision site and possible infection. She has a hx of secondary mania related to psychosis and manipulation of her right frontal lobe.</td>\n",
       "      <td>1</td>\n",
       "      <td>3</td>\n",
       "      <td>11</td>\n",
       "      <td>1985</td>\n",
       "    </tr>\n",
       "    <tr>\n",
       "      <th>10</th>\n",
       "      <td>1157934136</td>\n",
       "      <td>4/19/91 Communication with referring physician?: Not Done</td>\n",
       "      <td>1</td>\n",
       "      <td>19</td>\n",
       "      <td>4</td>\n",
       "      <td>1991</td>\n",
       "    </tr>\n",
       "    <tr>\n",
       "      <th>14</th>\n",
       "      <td>1191233809</td>\n",
       "      <td>07/29/1994 CPT code: 99203</td>\n",
       "      <td>1</td>\n",
       "      <td>29</td>\n",
       "      <td>07</td>\n",
       "      <td>1994</td>\n",
       "    </tr>\n",
       "    <tr>\n",
       "      <th>16</th>\n",
       "      <td>1218956332</td>\n",
       "      <td>6/10/72 SOS-10 Total Score:</td>\n",
       "      <td>1</td>\n",
       "      <td>10</td>\n",
       "      <td>6</td>\n",
       "      <td>1972</td>\n",
       "    </tr>\n",
       "  </tbody>\n",
       "</table>\n",
       "</div>"
      ],
      "text/plain": [
       "          Code  \\\n",
       "3   1039963589   \n",
       "9   1148116416   \n",
       "10  1157934136   \n",
       "14  1191233809   \n",
       "16  1218956332   \n",
       "\n",
       "                                                                                                                                                                                                                                                                                                                                                                  Data  \\\n",
       "3                                                                                                                                                                                                                                                                                                                                           October 7, 01 [report_end]   \n",
       "9   24 yo right handed woman with history of large right frontal mass s/p resection 11/3/1985 who had recent urgent R cranial wound revision and placement of L EVD for declining vision and increased drainage from craniotomy incision site and possible infection. She has a hx of secondary mania related to psychosis and manipulation of her right frontal lobe.   \n",
       "10                                                                                                                                                                                                                                                                                                           4/19/91 Communication with referring physician?: Not Done   \n",
       "14                                                                                                                                                                                                                                                                                                                                          07/29/1994 CPT code: 99203   \n",
       "16                                                                                                                                                                                                                                                                                                                                         6/10/72 SOS-10 Total Score:   \n",
       "\n",
       "    Iter Day Month  Year  \n",
       "3      1   7    10  2001  \n",
       "9      1   3    11  1985  \n",
       "10     1  19     4  1991  \n",
       "14     1  29    07  1994  \n",
       "16     1  10     6  1972  "
      ]
     },
     "metadata": {},
     "output_type": "display_data"
    },
    {
     "data": {
      "text/markdown": [
       "**Numer of rows with iter=0: 472**"
      ],
      "text/plain": [
       "<IPython.core.display.Markdown object>"
      ]
     },
     "metadata": {},
     "output_type": "display_data"
    },
    {
     "data": {
      "text/html": [
       "<div>\n",
       "<style scoped>\n",
       "    .dataframe tbody tr th:only-of-type {\n",
       "        vertical-align: middle;\n",
       "    }\n",
       "\n",
       "    .dataframe tbody tr th {\n",
       "        vertical-align: top;\n",
       "    }\n",
       "\n",
       "    .dataframe thead th {\n",
       "        text-align: right;\n",
       "    }\n",
       "</style>\n",
       "<table border=\"1\" class=\"dataframe\">\n",
       "  <thead>\n",
       "    <tr style=\"text-align: right;\">\n",
       "      <th></th>\n",
       "      <th>Code</th>\n",
       "      <th>Data</th>\n",
       "      <th>Iter</th>\n",
       "      <th>Day</th>\n",
       "      <th>Month</th>\n",
       "      <th>Year</th>\n",
       "    </tr>\n",
       "  </thead>\n",
       "  <tbody>\n",
       "    <tr>\n",
       "      <th>0</th>\n",
       "      <td>1012720972</td>\n",
       "      <td>.12, Noember 16- bad reaction to SpiceK2 - synthetic MJ- admitted to Crete Manor, Mcalester.</td>\n",
       "      <td>0</td>\n",
       "      <td>0</td>\n",
       "      <td>0</td>\n",
       "      <td>0</td>\n",
       "    </tr>\n",
       "    <tr>\n",
       "      <th>1</th>\n",
       "      <td>1039370009</td>\n",
       "      <td>.April, 5 97: made a phone call to Mom and Mom commented that he was talking very fast, hard to interrupt, but was in super happy spirits, so didn't make a big deal of it.</td>\n",
       "      <td>0</td>\n",
       "      <td>0</td>\n",
       "      <td>0</td>\n",
       "      <td>0</td>\n",
       "    </tr>\n",
       "    <tr>\n",
       "      <th>2</th>\n",
       "      <td>1039574613</td>\n",
       "      <td>A pleasant 28 yo woman with no formal psychiatric history and with a h/o SCCA of the right tongue (s/p partial glossectomy and neck dissection in 8/1974) referred to psycho-oncology for assistance with adjustment issues following recovery. The patient does not meet criteria for a major mood or anxiety disorder. She is not at imminent risk of harm to self or others. She would benefit from psychotherapy to help her integrate her experience of cancer and the break-up of her engagement, and to think through how to continue to create a life for herself moving forward.</td>\n",
       "      <td>0</td>\n",
       "      <td>0</td>\n",
       "      <td>0</td>\n",
       "      <td>0</td>\n",
       "    </tr>\n",
       "    <tr>\n",
       "      <th>4</th>\n",
       "      <td>1048901075</td>\n",
       "      <td>July, 4, 01 Primary Care Doctor:</td>\n",
       "      <td>0</td>\n",
       "      <td>0</td>\n",
       "      <td>0</td>\n",
       "      <td>0</td>\n",
       "    </tr>\n",
       "    <tr>\n",
       "      <th>5</th>\n",
       "      <td>1054311047</td>\n",
       "      <td>)and 8mo in 2009</td>\n",
       "      <td>0</td>\n",
       "      <td>0</td>\n",
       "      <td>0</td>\n",
       "      <td>0</td>\n",
       "    </tr>\n",
       "  </tbody>\n",
       "</table>\n",
       "</div>"
      ],
      "text/plain": [
       "         Code  \\\n",
       "0  1012720972   \n",
       "1  1039370009   \n",
       "2  1039574613   \n",
       "4  1048901075   \n",
       "5  1054311047   \n",
       "\n",
       "                                                                                                                                                                                                                                                                                                                                                                                                                                                                                                                                                                                        Data  \\\n",
       "0                                                                                                                                                                                                                                                                                                                                                                                                                                                                                               .12, Noember 16- bad reaction to SpiceK2 - synthetic MJ- admitted to Crete Manor, Mcalester.   \n",
       "1                                                                                                                                                                                                                                                                                                                                                                                                                .April, 5 97: made a phone call to Mom and Mom commented that he was talking very fast, hard to interrupt, but was in super happy spirits, so didn't make a big deal of it.   \n",
       "2  A pleasant 28 yo woman with no formal psychiatric history and with a h/o SCCA of the right tongue (s/p partial glossectomy and neck dissection in 8/1974) referred to psycho-oncology for assistance with adjustment issues following recovery. The patient does not meet criteria for a major mood or anxiety disorder. She is not at imminent risk of harm to self or others. She would benefit from psychotherapy to help her integrate her experience of cancer and the break-up of her engagement, and to think through how to continue to create a life for herself moving forward.   \n",
       "4                                                                                                                                                                                                                                                                                                                                                                                                                                                                                                                                                           July, 4, 01 Primary Care Doctor:   \n",
       "5                                                                                                                                                                                                                                                                                                                                                                                                                                                                                                                                                                           )and 8mo in 2009   \n",
       "\n",
       "   Iter Day Month  Year  \n",
       "0     0   0     0     0  \n",
       "1     0   0     0     0  \n",
       "2     0   0     0     0  \n",
       "4     0   0     0     0  \n",
       "5     0   0     0     0  "
      ]
     },
     "metadata": {},
     "output_type": "display_data"
    }
   ],
   "source": [
    "# Save the extracted date components to the main dataframe\n",
    "criteria = (df.Iter == 0) & (df_inconsistent_month['Year'].notna()) & (df_inconsistent_month['Year'] > 0)\n",
    "df.loc[criteria, columns] = df_inconsistent_month[columns]\n",
    "df.loc[criteria, 'Iter'] = iter + 1\n",
    "\n",
    "info()"
   ]
  },
  {
   "cell_type": "code",
   "execution_count": null,
   "id": "e063491a-c8e8-4f0d-836b-a7d213851887",
   "metadata": {},
   "outputs": [],
   "source": []
  },
  {
   "cell_type": "code",
   "execution_count": 26,
   "id": "6f7bc84e-ae8f-4c8d-b543-914066f46968",
   "metadata": {
    "tags": []
   },
   "outputs": [],
   "source": [
    "columns_for_word_month = ['Day', 'Month', 'Year']"
   ]
  },
  {
   "cell_type": "code",
   "execution_count": 27,
   "id": "f083529d-63fa-4479-884d-1e6262c8c5a1",
   "metadata": {
    "tags": []
   },
   "outputs": [],
   "source": [
    "# Regular expression for dates with month as word and inconsistent order\n",
    "regex_word_month = r\"(\\d{1,2})[-,\\s]*(\\w{3,})[-\\s.]+(\\d{2,4})\""
   ]
  },
  {
   "cell_type": "code",
   "execution_count": 28,
   "id": "f319b2f4-0fef-42a2-8b17-701ca28ca594",
   "metadata": {
    "tags": []
   },
   "outputs": [],
   "source": [
    "# Apply the regex to extract date components\n",
    "df_word_month = df[df.Iter == 0].Data.str.extract(regex_word_month)\n",
    "df_word_month.dropna(inplace=True)\n",
    "df_word_month.columns = columns_for_word_month"
   ]
  },
  {
   "cell_type": "code",
   "execution_count": 29,
   "id": "ebd3a34e-b552-4081-ba5c-0abfc0eeaef9",
   "metadata": {},
   "outputs": [],
   "source": [
    "# Apply the conversion function to the 'Month' column\n",
    "df_word_month['Month'] = df_word_month['Month'].apply(convert_word_month_to_number)"
   ]
  },
  {
   "cell_type": "code",
   "execution_count": 30,
   "id": "6993f9c7-76e0-4854-99cd-400772d49823",
   "metadata": {
    "tags": []
   },
   "outputs": [
    {
     "name": "stdout",
     "output_type": "stream",
     "text": [
      "Number of rows matched = 169\n"
     ]
    },
    {
     "data": {
      "text/html": [
       "<div>\n",
       "<style scoped>\n",
       "    .dataframe tbody tr th:only-of-type {\n",
       "        vertical-align: middle;\n",
       "    }\n",
       "\n",
       "    .dataframe tbody tr th {\n",
       "        vertical-align: top;\n",
       "    }\n",
       "\n",
       "    .dataframe thead th {\n",
       "        text-align: right;\n",
       "    }\n",
       "</style>\n",
       "<table border=\"1\" class=\"dataframe\">\n",
       "  <thead>\n",
       "    <tr style=\"text-align: right;\">\n",
       "      <th></th>\n",
       "      <th>Day</th>\n",
       "      <th>Month</th>\n",
       "      <th>Year</th>\n",
       "    </tr>\n",
       "  </thead>\n",
       "  <tbody>\n",
       "    <tr>\n",
       "      <th>0</th>\n",
       "      <td>12</td>\n",
       "      <td>11</td>\n",
       "      <td>16</td>\n",
       "    </tr>\n",
       "    <tr>\n",
       "      <th>12</th>\n",
       "      <td>15</td>\n",
       "      <td>09</td>\n",
       "      <td>91</td>\n",
       "    </tr>\n",
       "    <tr>\n",
       "      <th>15</th>\n",
       "      <td>14</td>\n",
       "      <td>01</td>\n",
       "      <td>1981</td>\n",
       "    </tr>\n",
       "    <tr>\n",
       "      <th>17</th>\n",
       "      <td>1</td>\n",
       "      <td>09</td>\n",
       "      <td>91</td>\n",
       "    </tr>\n",
       "    <tr>\n",
       "      <th>21</th>\n",
       "      <td>28</td>\n",
       "      <td>09</td>\n",
       "      <td>93</td>\n",
       "    </tr>\n",
       "  </tbody>\n",
       "</table>\n",
       "</div>"
      ],
      "text/plain": [
       "   Day Month  Year\n",
       "0   12    11    16\n",
       "12  15    09    91\n",
       "15  14    01  1981\n",
       "17   1    09    91\n",
       "21  28    09    93"
      ]
     },
     "execution_count": 30,
     "metadata": {},
     "output_type": "execute_result"
    }
   ],
   "source": [
    "print(f\"Number of rows matched = {df_word_month.shape[0]}\")\n",
    "df_word_month.head()"
   ]
  },
  {
   "cell_type": "code",
   "execution_count": 31,
   "id": "738c7161-9922-4654-82a0-d48cac16a020",
   "metadata": {
    "tags": []
   },
   "outputs": [],
   "source": [
    "# Verify date components\n",
    "df_word_month = verify(df_word_month)"
   ]
  },
  {
   "cell_type": "code",
   "execution_count": 32,
   "id": "a242271b-5637-4701-b953-84cb602281bd",
   "metadata": {
    "tags": []
   },
   "outputs": [],
   "source": [
    "# Convert 'Year' column to numeric\n",
    "df_word_month['Year'] = pd.to_numeric(df_word_month['Year'], errors='coerce')"
   ]
  },
  {
   "cell_type": "code",
   "execution_count": 33,
   "id": "b834f400-ac7f-4333-988e-31ad6eac6e2d",
   "metadata": {},
   "outputs": [
    {
     "data": {
      "text/markdown": [
       "**Numer of rows with iter=1: 412**"
      ],
      "text/plain": [
       "<IPython.core.display.Markdown object>"
      ]
     },
     "metadata": {},
     "output_type": "display_data"
    },
    {
     "data": {
      "text/html": [
       "<div>\n",
       "<style scoped>\n",
       "    .dataframe tbody tr th:only-of-type {\n",
       "        vertical-align: middle;\n",
       "    }\n",
       "\n",
       "    .dataframe tbody tr th {\n",
       "        vertical-align: top;\n",
       "    }\n",
       "\n",
       "    .dataframe thead th {\n",
       "        text-align: right;\n",
       "    }\n",
       "</style>\n",
       "<table border=\"1\" class=\"dataframe\">\n",
       "  <thead>\n",
       "    <tr style=\"text-align: right;\">\n",
       "      <th></th>\n",
       "      <th>Code</th>\n",
       "      <th>Data</th>\n",
       "      <th>Iter</th>\n",
       "      <th>Day</th>\n",
       "      <th>Month</th>\n",
       "      <th>Year</th>\n",
       "    </tr>\n",
       "  </thead>\n",
       "  <tbody>\n",
       "    <tr>\n",
       "      <th>0</th>\n",
       "      <td>1012720972</td>\n",
       "      <td>.12, Noember 16- bad reaction to SpiceK2 - synthetic MJ- admitted to Crete Manor, Mcalester.</td>\n",
       "      <td>1</td>\n",
       "      <td>12</td>\n",
       "      <td>11</td>\n",
       "      <td>2016</td>\n",
       "    </tr>\n",
       "    <tr>\n",
       "      <th>3</th>\n",
       "      <td>1039963589</td>\n",
       "      <td>October 7, 01 [report_end]</td>\n",
       "      <td>1</td>\n",
       "      <td>7</td>\n",
       "      <td>10</td>\n",
       "      <td>2001</td>\n",
       "    </tr>\n",
       "    <tr>\n",
       "      <th>9</th>\n",
       "      <td>1148116416</td>\n",
       "      <td>24 yo right handed woman with history of large right frontal mass s/p resection 11/3/1985 who had recent urgent R cranial wound revision and placement of L EVD for declining vision and increased drainage from craniotomy incision site and possible infection. She has a hx of secondary mania related to psychosis and manipulation of her right frontal lobe.</td>\n",
       "      <td>1</td>\n",
       "      <td>3</td>\n",
       "      <td>11</td>\n",
       "      <td>1985</td>\n",
       "    </tr>\n",
       "    <tr>\n",
       "      <th>10</th>\n",
       "      <td>1157934136</td>\n",
       "      <td>4/19/91 Communication with referring physician?: Not Done</td>\n",
       "      <td>1</td>\n",
       "      <td>19</td>\n",
       "      <td>4</td>\n",
       "      <td>1991</td>\n",
       "    </tr>\n",
       "    <tr>\n",
       "      <th>12</th>\n",
       "      <td>1164148605</td>\n",
       "      <td>stwin boys born 15 Sepember 91 Gambling behavior: No</td>\n",
       "      <td>1</td>\n",
       "      <td>15</td>\n",
       "      <td>09</td>\n",
       "      <td>1991</td>\n",
       "    </tr>\n",
       "  </tbody>\n",
       "</table>\n",
       "</div>"
      ],
      "text/plain": [
       "          Code  \\\n",
       "0   1012720972   \n",
       "3   1039963589   \n",
       "9   1148116416   \n",
       "10  1157934136   \n",
       "12  1164148605   \n",
       "\n",
       "                                                                                                                                                                                                                                                                                                                                                                  Data  \\\n",
       "0                                                                                                                                                                                                                                                                         .12, Noember 16- bad reaction to SpiceK2 - synthetic MJ- admitted to Crete Manor, Mcalester.   \n",
       "3                                                                                                                                                                                                                                                                                                                                           October 7, 01 [report_end]   \n",
       "9   24 yo right handed woman with history of large right frontal mass s/p resection 11/3/1985 who had recent urgent R cranial wound revision and placement of L EVD for declining vision and increased drainage from craniotomy incision site and possible infection. She has a hx of secondary mania related to psychosis and manipulation of her right frontal lobe.   \n",
       "10                                                                                                                                                                                                                                                                                                           4/19/91 Communication with referring physician?: Not Done   \n",
       "12                                                                                                                                                                                                                                                                                                                stwin boys born 15 Sepember 91 Gambling behavior: No   \n",
       "\n",
       "    Iter Day Month  Year  \n",
       "0      1  12    11  2016  \n",
       "3      1   7    10  2001  \n",
       "9      1   3    11  1985  \n",
       "10     1  19     4  1991  \n",
       "12     1  15    09  1991  "
      ]
     },
     "metadata": {},
     "output_type": "display_data"
    },
    {
     "data": {
      "text/markdown": [
       "**Numer of rows with iter=0: 303**"
      ],
      "text/plain": [
       "<IPython.core.display.Markdown object>"
      ]
     },
     "metadata": {},
     "output_type": "display_data"
    },
    {
     "data": {
      "text/html": [
       "<div>\n",
       "<style scoped>\n",
       "    .dataframe tbody tr th:only-of-type {\n",
       "        vertical-align: middle;\n",
       "    }\n",
       "\n",
       "    .dataframe tbody tr th {\n",
       "        vertical-align: top;\n",
       "    }\n",
       "\n",
       "    .dataframe thead th {\n",
       "        text-align: right;\n",
       "    }\n",
       "</style>\n",
       "<table border=\"1\" class=\"dataframe\">\n",
       "  <thead>\n",
       "    <tr style=\"text-align: right;\">\n",
       "      <th></th>\n",
       "      <th>Code</th>\n",
       "      <th>Data</th>\n",
       "      <th>Iter</th>\n",
       "      <th>Day</th>\n",
       "      <th>Month</th>\n",
       "      <th>Year</th>\n",
       "    </tr>\n",
       "  </thead>\n",
       "  <tbody>\n",
       "    <tr>\n",
       "      <th>1</th>\n",
       "      <td>1039370009</td>\n",
       "      <td>.April, 5 97: made a phone call to Mom and Mom commented that he was talking very fast, hard to interrupt, but was in super happy spirits, so didn't make a big deal of it.</td>\n",
       "      <td>0</td>\n",
       "      <td>0</td>\n",
       "      <td>0</td>\n",
       "      <td>0</td>\n",
       "    </tr>\n",
       "    <tr>\n",
       "      <th>2</th>\n",
       "      <td>1039574613</td>\n",
       "      <td>A pleasant 28 yo woman with no formal psychiatric history and with a h/o SCCA of the right tongue (s/p partial glossectomy and neck dissection in 8/1974) referred to psycho-oncology for assistance with adjustment issues following recovery. The patient does not meet criteria for a major mood or anxiety disorder. She is not at imminent risk of harm to self or others. She would benefit from psychotherapy to help her integrate her experience of cancer and the break-up of her engagement, and to think through how to continue to create a life for herself moving forward.</td>\n",
       "      <td>0</td>\n",
       "      <td>0</td>\n",
       "      <td>0</td>\n",
       "      <td>0</td>\n",
       "    </tr>\n",
       "    <tr>\n",
       "      <th>4</th>\n",
       "      <td>1048901075</td>\n",
       "      <td>July, 4, 01 Primary Care Doctor:</td>\n",
       "      <td>0</td>\n",
       "      <td>0</td>\n",
       "      <td>0</td>\n",
       "      <td>0</td>\n",
       "    </tr>\n",
       "    <tr>\n",
       "      <th>5</th>\n",
       "      <td>1054311047</td>\n",
       "      <td>)and 8mo in 2009</td>\n",
       "      <td>0</td>\n",
       "      <td>0</td>\n",
       "      <td>0</td>\n",
       "      <td>0</td>\n",
       "    </tr>\n",
       "    <tr>\n",
       "      <th>6</th>\n",
       "      <td>1054668034</td>\n",
       "      <td>)HTN, hypercholesterolemia, DM, sleep apnea,, nephrolithiasis. chronic renal impairment, DVT since July 1977 on enoxaparin.</td>\n",
       "      <td>0</td>\n",
       "      <td>0</td>\n",
       "      <td>0</td>\n",
       "      <td>0</td>\n",
       "    </tr>\n",
       "  </tbody>\n",
       "</table>\n",
       "</div>"
      ],
      "text/plain": [
       "         Code  \\\n",
       "1  1039370009   \n",
       "2  1039574613   \n",
       "4  1048901075   \n",
       "5  1054311047   \n",
       "6  1054668034   \n",
       "\n",
       "                                                                                                                                                                                                                                                                                                                                                                                                                                                                                                                                                                                        Data  \\\n",
       "1                                                                                                                                                                                                                                                                                                                                                                                                                .April, 5 97: made a phone call to Mom and Mom commented that he was talking very fast, hard to interrupt, but was in super happy spirits, so didn't make a big deal of it.   \n",
       "2  A pleasant 28 yo woman with no formal psychiatric history and with a h/o SCCA of the right tongue (s/p partial glossectomy and neck dissection in 8/1974) referred to psycho-oncology for assistance with adjustment issues following recovery. The patient does not meet criteria for a major mood or anxiety disorder. She is not at imminent risk of harm to self or others. She would benefit from psychotherapy to help her integrate her experience of cancer and the break-up of her engagement, and to think through how to continue to create a life for herself moving forward.   \n",
       "4                                                                                                                                                                                                                                                                                                                                                                                                                                                                                                                                                           July, 4, 01 Primary Care Doctor:   \n",
       "5                                                                                                                                                                                                                                                                                                                                                                                                                                                                                                                                                                           )and 8mo in 2009   \n",
       "6                                                                                                                                                                                                                                                                                                                                                                                                                                                                )HTN, hypercholesterolemia, DM, sleep apnea,, nephrolithiasis. chronic renal impairment, DVT since July 1977 on enoxaparin.   \n",
       "\n",
       "   Iter Day Month  Year  \n",
       "1     0   0     0     0  \n",
       "2     0   0     0     0  \n",
       "4     0   0     0     0  \n",
       "5     0   0     0     0  \n",
       "6     0   0     0     0  "
      ]
     },
     "metadata": {},
     "output_type": "display_data"
    }
   ],
   "source": [
    "# Save the extracted date components to the main dataframe\n",
    "criteria = (df.Iter == 0) & (df_word_month['Year'].notna()) & (df_word_month['Year'] > 0)\n",
    "df.loc[criteria, columns] = df_word_month[columns]\n",
    "df.loc[criteria, 'Iter'] = iter + 1\n",
    "\n",
    "info()"
   ]
  },
  {
   "cell_type": "code",
   "execution_count": null,
   "id": "b7cf49db-4c68-4e02-ba64-0813aebadf61",
   "metadata": {},
   "outputs": [],
   "source": []
  },
  {
   "cell_type": "code",
   "execution_count": 34,
   "id": "3426c560-a88b-46a9-9786-c8d297b496fe",
   "metadata": {
    "tags": []
   },
   "outputs": [],
   "source": [
    "regex_with_ordinals = r\"(\\w{3,})\\s+(\\d{1,2})(?:st|nd|rd|th),\\s+(\\d{4})\""
   ]
  },
  {
   "cell_type": "code",
   "execution_count": 35,
   "id": "528dfcec-f0a2-47c4-afd0-11a16810a94c",
   "metadata": {
    "tags": []
   },
   "outputs": [],
   "source": [
    "# Apply the regex to extract date components\n",
    "df_with_ordinals = df[df.Iter == 0].Data.str.extract(regex_with_ordinals)\n",
    "df_with_ordinals.dropna(inplace=True)\n",
    "df_with_ordinals.columns = columns"
   ]
  },
  {
   "cell_type": "code",
   "execution_count": 36,
   "id": "fed1ecbf-ee18-4ef2-8571-8441e62da450",
   "metadata": {
    "tags": []
   },
   "outputs": [
    {
     "name": "stdout",
     "output_type": "stream",
     "text": [
      "Number of rows matched = 0\n"
     ]
    },
    {
     "data": {
      "text/html": [
       "<div>\n",
       "<style scoped>\n",
       "    .dataframe tbody tr th:only-of-type {\n",
       "        vertical-align: middle;\n",
       "    }\n",
       "\n",
       "    .dataframe tbody tr th {\n",
       "        vertical-align: top;\n",
       "    }\n",
       "\n",
       "    .dataframe thead th {\n",
       "        text-align: right;\n",
       "    }\n",
       "</style>\n",
       "<table border=\"1\" class=\"dataframe\">\n",
       "  <thead>\n",
       "    <tr style=\"text-align: right;\">\n",
       "      <th></th>\n",
       "      <th>Month</th>\n",
       "      <th>Day</th>\n",
       "      <th>Year</th>\n",
       "    </tr>\n",
       "  </thead>\n",
       "  <tbody>\n",
       "  </tbody>\n",
       "</table>\n",
       "</div>"
      ],
      "text/plain": [
       "Empty DataFrame\n",
       "Columns: [Month, Day, Year]\n",
       "Index: []"
      ]
     },
     "execution_count": 36,
     "metadata": {},
     "output_type": "execute_result"
    }
   ],
   "source": [
    "print(f\"Number of rows matched = {df_with_ordinals.shape[0]}\")\n",
    "df_with_ordinals.head()"
   ]
  },
  {
   "cell_type": "code",
   "execution_count": 37,
   "id": "c2e41a81-1f12-4564-b7b2-d878e60783c1",
   "metadata": {
    "tags": []
   },
   "outputs": [],
   "source": [
    "# Verify date components\n",
    "df_with_ordinals = verify(df_with_ordinals)"
   ]
  },
  {
   "cell_type": "code",
   "execution_count": 38,
   "id": "5d77e7d0-2d2a-4dc2-a96e-65c00d32000f",
   "metadata": {},
   "outputs": [],
   "source": [
    "# Convert 'Year' column to numeric\n",
    "df_with_ordinals['Year'] = pd.to_numeric(df_with_ordinals['Year'], errors='coerce')"
   ]
  },
  {
   "cell_type": "code",
   "execution_count": 39,
   "id": "f61cb00a-ed12-429e-8702-fb0aa9a72587",
   "metadata": {
    "tags": []
   },
   "outputs": [
    {
     "data": {
      "text/markdown": [
       "**Numer of rows with iter=1: 412**"
      ],
      "text/plain": [
       "<IPython.core.display.Markdown object>"
      ]
     },
     "metadata": {},
     "output_type": "display_data"
    },
    {
     "data": {
      "text/html": [
       "<div>\n",
       "<style scoped>\n",
       "    .dataframe tbody tr th:only-of-type {\n",
       "        vertical-align: middle;\n",
       "    }\n",
       "\n",
       "    .dataframe tbody tr th {\n",
       "        vertical-align: top;\n",
       "    }\n",
       "\n",
       "    .dataframe thead th {\n",
       "        text-align: right;\n",
       "    }\n",
       "</style>\n",
       "<table border=\"1\" class=\"dataframe\">\n",
       "  <thead>\n",
       "    <tr style=\"text-align: right;\">\n",
       "      <th></th>\n",
       "      <th>Code</th>\n",
       "      <th>Data</th>\n",
       "      <th>Iter</th>\n",
       "      <th>Day</th>\n",
       "      <th>Month</th>\n",
       "      <th>Year</th>\n",
       "    </tr>\n",
       "  </thead>\n",
       "  <tbody>\n",
       "    <tr>\n",
       "      <th>0</th>\n",
       "      <td>1012720972</td>\n",
       "      <td>.12, Noember 16- bad reaction to SpiceK2 - synthetic MJ- admitted to Crete Manor, Mcalester.</td>\n",
       "      <td>1</td>\n",
       "      <td>12</td>\n",
       "      <td>11</td>\n",
       "      <td>2016</td>\n",
       "    </tr>\n",
       "    <tr>\n",
       "      <th>3</th>\n",
       "      <td>1039963589</td>\n",
       "      <td>October 7, 01 [report_end]</td>\n",
       "      <td>1</td>\n",
       "      <td>7</td>\n",
       "      <td>10</td>\n",
       "      <td>2001</td>\n",
       "    </tr>\n",
       "    <tr>\n",
       "      <th>9</th>\n",
       "      <td>1148116416</td>\n",
       "      <td>24 yo right handed woman with history of large right frontal mass s/p resection 11/3/1985 who had recent urgent R cranial wound revision and placement of L EVD for declining vision and increased drainage from craniotomy incision site and possible infection. She has a hx of secondary mania related to psychosis and manipulation of her right frontal lobe.</td>\n",
       "      <td>1</td>\n",
       "      <td>3</td>\n",
       "      <td>11</td>\n",
       "      <td>1985</td>\n",
       "    </tr>\n",
       "    <tr>\n",
       "      <th>10</th>\n",
       "      <td>1157934136</td>\n",
       "      <td>4/19/91 Communication with referring physician?: Not Done</td>\n",
       "      <td>1</td>\n",
       "      <td>19</td>\n",
       "      <td>4</td>\n",
       "      <td>1991</td>\n",
       "    </tr>\n",
       "    <tr>\n",
       "      <th>12</th>\n",
       "      <td>1164148605</td>\n",
       "      <td>stwin boys born 15 Sepember 91 Gambling behavior: No</td>\n",
       "      <td>1</td>\n",
       "      <td>15</td>\n",
       "      <td>09</td>\n",
       "      <td>1991</td>\n",
       "    </tr>\n",
       "  </tbody>\n",
       "</table>\n",
       "</div>"
      ],
      "text/plain": [
       "          Code  \\\n",
       "0   1012720972   \n",
       "3   1039963589   \n",
       "9   1148116416   \n",
       "10  1157934136   \n",
       "12  1164148605   \n",
       "\n",
       "                                                                                                                                                                                                                                                                                                                                                                  Data  \\\n",
       "0                                                                                                                                                                                                                                                                         .12, Noember 16- bad reaction to SpiceK2 - synthetic MJ- admitted to Crete Manor, Mcalester.   \n",
       "3                                                                                                                                                                                                                                                                                                                                           October 7, 01 [report_end]   \n",
       "9   24 yo right handed woman with history of large right frontal mass s/p resection 11/3/1985 who had recent urgent R cranial wound revision and placement of L EVD for declining vision and increased drainage from craniotomy incision site and possible infection. She has a hx of secondary mania related to psychosis and manipulation of her right frontal lobe.   \n",
       "10                                                                                                                                                                                                                                                                                                           4/19/91 Communication with referring physician?: Not Done   \n",
       "12                                                                                                                                                                                                                                                                                                                stwin boys born 15 Sepember 91 Gambling behavior: No   \n",
       "\n",
       "    Iter Day Month  Year  \n",
       "0      1  12    11  2016  \n",
       "3      1   7    10  2001  \n",
       "9      1   3    11  1985  \n",
       "10     1  19     4  1991  \n",
       "12     1  15    09  1991  "
      ]
     },
     "metadata": {},
     "output_type": "display_data"
    },
    {
     "data": {
      "text/markdown": [
       "**Numer of rows with iter=0: 303**"
      ],
      "text/plain": [
       "<IPython.core.display.Markdown object>"
      ]
     },
     "metadata": {},
     "output_type": "display_data"
    },
    {
     "data": {
      "text/html": [
       "<div>\n",
       "<style scoped>\n",
       "    .dataframe tbody tr th:only-of-type {\n",
       "        vertical-align: middle;\n",
       "    }\n",
       "\n",
       "    .dataframe tbody tr th {\n",
       "        vertical-align: top;\n",
       "    }\n",
       "\n",
       "    .dataframe thead th {\n",
       "        text-align: right;\n",
       "    }\n",
       "</style>\n",
       "<table border=\"1\" class=\"dataframe\">\n",
       "  <thead>\n",
       "    <tr style=\"text-align: right;\">\n",
       "      <th></th>\n",
       "      <th>Code</th>\n",
       "      <th>Data</th>\n",
       "      <th>Iter</th>\n",
       "      <th>Day</th>\n",
       "      <th>Month</th>\n",
       "      <th>Year</th>\n",
       "    </tr>\n",
       "  </thead>\n",
       "  <tbody>\n",
       "    <tr>\n",
       "      <th>1</th>\n",
       "      <td>1039370009</td>\n",
       "      <td>.April, 5 97: made a phone call to Mom and Mom commented that he was talking very fast, hard to interrupt, but was in super happy spirits, so didn't make a big deal of it.</td>\n",
       "      <td>0</td>\n",
       "      <td>0</td>\n",
       "      <td>0</td>\n",
       "      <td>0</td>\n",
       "    </tr>\n",
       "    <tr>\n",
       "      <th>2</th>\n",
       "      <td>1039574613</td>\n",
       "      <td>A pleasant 28 yo woman with no formal psychiatric history and with a h/o SCCA of the right tongue (s/p partial glossectomy and neck dissection in 8/1974) referred to psycho-oncology for assistance with adjustment issues following recovery. The patient does not meet criteria for a major mood or anxiety disorder. She is not at imminent risk of harm to self or others. She would benefit from psychotherapy to help her integrate her experience of cancer and the break-up of her engagement, and to think through how to continue to create a life for herself moving forward.</td>\n",
       "      <td>0</td>\n",
       "      <td>0</td>\n",
       "      <td>0</td>\n",
       "      <td>0</td>\n",
       "    </tr>\n",
       "    <tr>\n",
       "      <th>4</th>\n",
       "      <td>1048901075</td>\n",
       "      <td>July, 4, 01 Primary Care Doctor:</td>\n",
       "      <td>0</td>\n",
       "      <td>0</td>\n",
       "      <td>0</td>\n",
       "      <td>0</td>\n",
       "    </tr>\n",
       "    <tr>\n",
       "      <th>5</th>\n",
       "      <td>1054311047</td>\n",
       "      <td>)and 8mo in 2009</td>\n",
       "      <td>0</td>\n",
       "      <td>0</td>\n",
       "      <td>0</td>\n",
       "      <td>0</td>\n",
       "    </tr>\n",
       "    <tr>\n",
       "      <th>6</th>\n",
       "      <td>1054668034</td>\n",
       "      <td>)HTN, hypercholesterolemia, DM, sleep apnea,, nephrolithiasis. chronic renal impairment, DVT since July 1977 on enoxaparin.</td>\n",
       "      <td>0</td>\n",
       "      <td>0</td>\n",
       "      <td>0</td>\n",
       "      <td>0</td>\n",
       "    </tr>\n",
       "  </tbody>\n",
       "</table>\n",
       "</div>"
      ],
      "text/plain": [
       "         Code  \\\n",
       "1  1039370009   \n",
       "2  1039574613   \n",
       "4  1048901075   \n",
       "5  1054311047   \n",
       "6  1054668034   \n",
       "\n",
       "                                                                                                                                                                                                                                                                                                                                                                                                                                                                                                                                                                                        Data  \\\n",
       "1                                                                                                                                                                                                                                                                                                                                                                                                                .April, 5 97: made a phone call to Mom and Mom commented that he was talking very fast, hard to interrupt, but was in super happy spirits, so didn't make a big deal of it.   \n",
       "2  A pleasant 28 yo woman with no formal psychiatric history and with a h/o SCCA of the right tongue (s/p partial glossectomy and neck dissection in 8/1974) referred to psycho-oncology for assistance with adjustment issues following recovery. The patient does not meet criteria for a major mood or anxiety disorder. She is not at imminent risk of harm to self or others. She would benefit from psychotherapy to help her integrate her experience of cancer and the break-up of her engagement, and to think through how to continue to create a life for herself moving forward.   \n",
       "4                                                                                                                                                                                                                                                                                                                                                                                                                                                                                                                                                           July, 4, 01 Primary Care Doctor:   \n",
       "5                                                                                                                                                                                                                                                                                                                                                                                                                                                                                                                                                                           )and 8mo in 2009   \n",
       "6                                                                                                                                                                                                                                                                                                                                                                                                                                                                )HTN, hypercholesterolemia, DM, sleep apnea,, nephrolithiasis. chronic renal impairment, DVT since July 1977 on enoxaparin.   \n",
       "\n",
       "   Iter Day Month  Year  \n",
       "1     0   0     0     0  \n",
       "2     0   0     0     0  \n",
       "4     0   0     0     0  \n",
       "5     0   0     0     0  \n",
       "6     0   0     0     0  "
      ]
     },
     "metadata": {},
     "output_type": "display_data"
    }
   ],
   "source": [
    "# Save the extracted date components to the main dataframe\n",
    "criteria = (df.Iter == 0) & (df_with_ordinals['Year'].notna()) & (df_with_ordinals['Year'] > 0)\n",
    "df.loc[criteria, columns] = df_with_ordinals[columns]\n",
    "df.loc[criteria, 'Iter'] = iter + 1\n",
    "\n",
    "info()"
   ]
  },
  {
   "cell_type": "code",
   "execution_count": null,
   "id": "de5b8768-bef5-405b-8208-94b501ff2337",
   "metadata": {},
   "outputs": [],
   "source": []
  },
  {
   "cell_type": "code",
   "execution_count": 40,
   "id": "649a8306-060f-464e-a530-23168ee2d7b7",
   "metadata": {
    "tags": []
   },
   "outputs": [],
   "source": [
    "regex_missing_day_month_word = r\"([A-Za-z]{3,})\\s+(\\d{4})\""
   ]
  },
  {
   "cell_type": "code",
   "execution_count": 41,
   "id": "91569750-787d-4c1f-b79a-d48441a2e14c",
   "metadata": {
    "tags": []
   },
   "outputs": [],
   "source": [
    "# Apply the regex to extract date components\n",
    "df_with_missing_day_month_word = df[df.Iter == 0].Data.str.extract(regex_missing_day_month_word)\n",
    "df_with_missing_day_month_word.dropna(inplace=True)\n",
    "df_with_missing_day_month_word.columns = ['Month','Year']"
   ]
  },
  {
   "cell_type": "code",
   "execution_count": 42,
   "id": "ba273184-257f-4973-a118-e8b070ec5e9a",
   "metadata": {
    "tags": []
   },
   "outputs": [],
   "source": [
    "# Apply the conversion function to the 'Month' column\n",
    "df_with_missing_day_month_word['Month'] = df_with_missing_day_month_word['Month'].apply(convert_word_month_to_number)"
   ]
  },
  {
   "cell_type": "code",
   "execution_count": 43,
   "id": "afb5e865-eadb-48e9-b35a-e578b60649db",
   "metadata": {
    "tags": []
   },
   "outputs": [
    {
     "name": "stdout",
     "output_type": "stream",
     "text": [
      "Number of rows matched = 89\n"
     ]
    },
    {
     "data": {
      "text/html": [
       "<div>\n",
       "<style scoped>\n",
       "    .dataframe tbody tr th:only-of-type {\n",
       "        vertical-align: middle;\n",
       "    }\n",
       "\n",
       "    .dataframe tbody tr th {\n",
       "        vertical-align: top;\n",
       "    }\n",
       "\n",
       "    .dataframe thead th {\n",
       "        text-align: right;\n",
       "    }\n",
       "</style>\n",
       "<table border=\"1\" class=\"dataframe\">\n",
       "  <thead>\n",
       "    <tr style=\"text-align: right;\">\n",
       "      <th></th>\n",
       "      <th>Month</th>\n",
       "      <th>Year</th>\n",
       "    </tr>\n",
       "  </thead>\n",
       "  <tbody>\n",
       "    <tr>\n",
       "      <th>6</th>\n",
       "      <td>07</td>\n",
       "      <td>1977</td>\n",
       "    </tr>\n",
       "    <tr>\n",
       "      <th>22</th>\n",
       "      <td>01</td>\n",
       "      <td>2007</td>\n",
       "    </tr>\n",
       "    <tr>\n",
       "      <th>29</th>\n",
       "      <td>09</td>\n",
       "      <td>1981</td>\n",
       "    </tr>\n",
       "    <tr>\n",
       "      <th>32</th>\n",
       "      <td>08</td>\n",
       "      <td>2012</td>\n",
       "    </tr>\n",
       "    <tr>\n",
       "      <th>36</th>\n",
       "      <td>09</td>\n",
       "      <td>1983</td>\n",
       "    </tr>\n",
       "  </tbody>\n",
       "</table>\n",
       "</div>"
      ],
      "text/plain": [
       "   Month  Year\n",
       "6     07  1977\n",
       "22    01  2007\n",
       "29    09  1981\n",
       "32    08  2012\n",
       "36    09  1983"
      ]
     },
     "execution_count": 43,
     "metadata": {},
     "output_type": "execute_result"
    }
   ],
   "source": [
    "print(f\"Number of rows matched = {df_with_missing_day_month_word.shape[0]}\")\n",
    "df_with_missing_day_month_word.head()"
   ]
  },
  {
   "cell_type": "code",
   "execution_count": 44,
   "id": "89044b78-2e79-41c9-a2f1-44c0946cf420",
   "metadata": {
    "tags": []
   },
   "outputs": [],
   "source": [
    "# Verify date components\n",
    "df_with_missing_day_month_word = verify(df_with_missing_day_month_word)"
   ]
  },
  {
   "cell_type": "code",
   "execution_count": 45,
   "id": "4ae01065-63f0-4b51-aab8-ae922c14d99e",
   "metadata": {
    "tags": []
   },
   "outputs": [],
   "source": [
    "# Convert 'Year' column to numeric\n",
    "df_with_missing_day_month_word['Year'] = pd.to_numeric(df_with_missing_day_month_word['Year'], errors='coerce')"
   ]
  },
  {
   "cell_type": "code",
   "execution_count": 46,
   "id": "fded4d16-d1ff-47e5-8e6a-c5700c41d6d6",
   "metadata": {
    "tags": []
   },
   "outputs": [
    {
     "data": {
      "text/markdown": [
       "**Numer of rows with iter=1: 501**"
      ],
      "text/plain": [
       "<IPython.core.display.Markdown object>"
      ]
     },
     "metadata": {},
     "output_type": "display_data"
    },
    {
     "data": {
      "text/html": [
       "<div>\n",
       "<style scoped>\n",
       "    .dataframe tbody tr th:only-of-type {\n",
       "        vertical-align: middle;\n",
       "    }\n",
       "\n",
       "    .dataframe tbody tr th {\n",
       "        vertical-align: top;\n",
       "    }\n",
       "\n",
       "    .dataframe thead th {\n",
       "        text-align: right;\n",
       "    }\n",
       "</style>\n",
       "<table border=\"1\" class=\"dataframe\">\n",
       "  <thead>\n",
       "    <tr style=\"text-align: right;\">\n",
       "      <th></th>\n",
       "      <th>Code</th>\n",
       "      <th>Data</th>\n",
       "      <th>Iter</th>\n",
       "      <th>Day</th>\n",
       "      <th>Month</th>\n",
       "      <th>Year</th>\n",
       "    </tr>\n",
       "  </thead>\n",
       "  <tbody>\n",
       "    <tr>\n",
       "      <th>0</th>\n",
       "      <td>1012720972</td>\n",
       "      <td>.12, Noember 16- bad reaction to SpiceK2 - synthetic MJ- admitted to Crete Manor, Mcalester.</td>\n",
       "      <td>1</td>\n",
       "      <td>12</td>\n",
       "      <td>11</td>\n",
       "      <td>2016</td>\n",
       "    </tr>\n",
       "    <tr>\n",
       "      <th>3</th>\n",
       "      <td>1039963589</td>\n",
       "      <td>October 7, 01 [report_end]</td>\n",
       "      <td>1</td>\n",
       "      <td>7</td>\n",
       "      <td>10</td>\n",
       "      <td>2001</td>\n",
       "    </tr>\n",
       "    <tr>\n",
       "      <th>6</th>\n",
       "      <td>1054668034</td>\n",
       "      <td>)HTN, hypercholesterolemia, DM, sleep apnea,, nephrolithiasis. chronic renal impairment, DVT since July 1977 on enoxaparin.</td>\n",
       "      <td>1</td>\n",
       "      <td>1</td>\n",
       "      <td>07</td>\n",
       "      <td>1977</td>\n",
       "    </tr>\n",
       "    <tr>\n",
       "      <th>9</th>\n",
       "      <td>1148116416</td>\n",
       "      <td>24 yo right handed woman with history of large right frontal mass s/p resection 11/3/1985 who had recent urgent R cranial wound revision and placement of L EVD for declining vision and increased drainage from craniotomy incision site and possible infection. She has a hx of secondary mania related to psychosis and manipulation of her right frontal lobe.</td>\n",
       "      <td>1</td>\n",
       "      <td>3</td>\n",
       "      <td>11</td>\n",
       "      <td>1985</td>\n",
       "    </tr>\n",
       "    <tr>\n",
       "      <th>10</th>\n",
       "      <td>1157934136</td>\n",
       "      <td>4/19/91 Communication with referring physician?: Not Done</td>\n",
       "      <td>1</td>\n",
       "      <td>19</td>\n",
       "      <td>4</td>\n",
       "      <td>1991</td>\n",
       "    </tr>\n",
       "  </tbody>\n",
       "</table>\n",
       "</div>"
      ],
      "text/plain": [
       "          Code  \\\n",
       "0   1012720972   \n",
       "3   1039963589   \n",
       "6   1054668034   \n",
       "9   1148116416   \n",
       "10  1157934136   \n",
       "\n",
       "                                                                                                                                                                                                                                                                                                                                                                  Data  \\\n",
       "0                                                                                                                                                                                                                                                                         .12, Noember 16- bad reaction to SpiceK2 - synthetic MJ- admitted to Crete Manor, Mcalester.   \n",
       "3                                                                                                                                                                                                                                                                                                                                           October 7, 01 [report_end]   \n",
       "6                                                                                                                                                                                                                                          )HTN, hypercholesterolemia, DM, sleep apnea,, nephrolithiasis. chronic renal impairment, DVT since July 1977 on enoxaparin.   \n",
       "9   24 yo right handed woman with history of large right frontal mass s/p resection 11/3/1985 who had recent urgent R cranial wound revision and placement of L EVD for declining vision and increased drainage from craniotomy incision site and possible infection. She has a hx of secondary mania related to psychosis and manipulation of her right frontal lobe.   \n",
       "10                                                                                                                                                                                                                                                                                                           4/19/91 Communication with referring physician?: Not Done   \n",
       "\n",
       "    Iter Day Month  Year  \n",
       "0      1  12    11  2016  \n",
       "3      1   7    10  2001  \n",
       "6      1   1    07  1977  \n",
       "9      1   3    11  1985  \n",
       "10     1  19     4  1991  "
      ]
     },
     "metadata": {},
     "output_type": "display_data"
    },
    {
     "data": {
      "text/markdown": [
       "**Numer of rows with iter=0: 214**"
      ],
      "text/plain": [
       "<IPython.core.display.Markdown object>"
      ]
     },
     "metadata": {},
     "output_type": "display_data"
    },
    {
     "data": {
      "text/html": [
       "<div>\n",
       "<style scoped>\n",
       "    .dataframe tbody tr th:only-of-type {\n",
       "        vertical-align: middle;\n",
       "    }\n",
       "\n",
       "    .dataframe tbody tr th {\n",
       "        vertical-align: top;\n",
       "    }\n",
       "\n",
       "    .dataframe thead th {\n",
       "        text-align: right;\n",
       "    }\n",
       "</style>\n",
       "<table border=\"1\" class=\"dataframe\">\n",
       "  <thead>\n",
       "    <tr style=\"text-align: right;\">\n",
       "      <th></th>\n",
       "      <th>Code</th>\n",
       "      <th>Data</th>\n",
       "      <th>Iter</th>\n",
       "      <th>Day</th>\n",
       "      <th>Month</th>\n",
       "      <th>Year</th>\n",
       "    </tr>\n",
       "  </thead>\n",
       "  <tbody>\n",
       "    <tr>\n",
       "      <th>1</th>\n",
       "      <td>1039370009</td>\n",
       "      <td>.April, 5 97: made a phone call to Mom and Mom commented that he was talking very fast, hard to interrupt, but was in super happy spirits, so didn't make a big deal of it.</td>\n",
       "      <td>0</td>\n",
       "      <td>0</td>\n",
       "      <td>0</td>\n",
       "      <td>0</td>\n",
       "    </tr>\n",
       "    <tr>\n",
       "      <th>2</th>\n",
       "      <td>1039574613</td>\n",
       "      <td>A pleasant 28 yo woman with no formal psychiatric history and with a h/o SCCA of the right tongue (s/p partial glossectomy and neck dissection in 8/1974) referred to psycho-oncology for assistance with adjustment issues following recovery. The patient does not meet criteria for a major mood or anxiety disorder. She is not at imminent risk of harm to self or others. She would benefit from psychotherapy to help her integrate her experience of cancer and the break-up of her engagement, and to think through how to continue to create a life for herself moving forward.</td>\n",
       "      <td>0</td>\n",
       "      <td>0</td>\n",
       "      <td>0</td>\n",
       "      <td>0</td>\n",
       "    </tr>\n",
       "    <tr>\n",
       "      <th>4</th>\n",
       "      <td>1048901075</td>\n",
       "      <td>July, 4, 01 Primary Care Doctor:</td>\n",
       "      <td>0</td>\n",
       "      <td>0</td>\n",
       "      <td>0</td>\n",
       "      <td>0</td>\n",
       "    </tr>\n",
       "    <tr>\n",
       "      <th>5</th>\n",
       "      <td>1054311047</td>\n",
       "      <td>)and 8mo in 2009</td>\n",
       "      <td>0</td>\n",
       "      <td>0</td>\n",
       "      <td>0</td>\n",
       "      <td>0</td>\n",
       "    </tr>\n",
       "    <tr>\n",
       "      <th>7</th>\n",
       "      <td>1082469285</td>\n",
       "      <td>Septeber, 10, 70 CPT Code: 90792: With medical services</td>\n",
       "      <td>0</td>\n",
       "      <td>0</td>\n",
       "      <td>0</td>\n",
       "      <td>0</td>\n",
       "    </tr>\n",
       "  </tbody>\n",
       "</table>\n",
       "</div>"
      ],
      "text/plain": [
       "         Code  \\\n",
       "1  1039370009   \n",
       "2  1039574613   \n",
       "4  1048901075   \n",
       "5  1054311047   \n",
       "7  1082469285   \n",
       "\n",
       "                                                                                                                                                                                                                                                                                                                                                                                                                                                                                                                                                                                        Data  \\\n",
       "1                                                                                                                                                                                                                                                                                                                                                                                                                .April, 5 97: made a phone call to Mom and Mom commented that he was talking very fast, hard to interrupt, but was in super happy spirits, so didn't make a big deal of it.   \n",
       "2  A pleasant 28 yo woman with no formal psychiatric history and with a h/o SCCA of the right tongue (s/p partial glossectomy and neck dissection in 8/1974) referred to psycho-oncology for assistance with adjustment issues following recovery. The patient does not meet criteria for a major mood or anxiety disorder. She is not at imminent risk of harm to self or others. She would benefit from psychotherapy to help her integrate her experience of cancer and the break-up of her engagement, and to think through how to continue to create a life for herself moving forward.   \n",
       "4                                                                                                                                                                                                                                                                                                                                                                                                                                                                                                                                                           July, 4, 01 Primary Care Doctor:   \n",
       "5                                                                                                                                                                                                                                                                                                                                                                                                                                                                                                                                                                           )and 8mo in 2009   \n",
       "7                                                                                                                                                                                                                                                                                                                                                                                                                                                                                                                                    Septeber, 10, 70 CPT Code: 90792: With medical services   \n",
       "\n",
       "   Iter Day Month  Year  \n",
       "1     0   0     0     0  \n",
       "2     0   0     0     0  \n",
       "4     0   0     0     0  \n",
       "5     0   0     0     0  \n",
       "7     0   0     0     0  "
      ]
     },
     "metadata": {},
     "output_type": "display_data"
    }
   ],
   "source": [
    "# Save the extracted date components to the main dataframe\n",
    "criteria = (df.Iter == 0) & (df_with_missing_day_month_word['Year'].notna()) & (df_with_missing_day_month_word['Year'] > 0)\n",
    "df.loc[criteria, columns] = df_with_missing_day_month_word[columns]\n",
    "df.loc[criteria, 'Iter'] = iter + 1\n",
    "\n",
    "info()"
   ]
  },
  {
   "cell_type": "code",
   "execution_count": 47,
   "id": "84f79a50-c20b-40e1-bf67-fffa4b092a7d",
   "metadata": {
    "tags": []
   },
   "outputs": [],
   "source": [
    "regex_missing_day_month_number = r\"(\\d{1,2})/(\\d{4})\"\n"
   ]
  },
  {
   "cell_type": "code",
   "execution_count": 48,
   "id": "db45b0a4-35dd-4305-a5f1-9d549e30fd6f",
   "metadata": {
    "tags": []
   },
   "outputs": [],
   "source": [
    "# Apply the regex to extract date components\n",
    "df_with_missing_day_month_number = df[df.Iter == 0].Data.str.extract(regex_missing_day_month_number)\n",
    "df_with_missing_day_month_number.dropna(inplace=True)\n",
    "df_with_missing_day_month_number.columns = ['Month','Year']"
   ]
  },
  {
   "cell_type": "code",
   "execution_count": 49,
   "id": "5f972911-9167-494c-8865-ed722e69c897",
   "metadata": {
    "tags": []
   },
   "outputs": [],
   "source": [
    "# Apply the conversion function to the 'Month' column\n",
    "df_with_missing_day_month_number['Month'] = df_with_missing_day_month_number['Month'].apply(convert_word_month_to_number)"
   ]
  },
  {
   "cell_type": "code",
   "execution_count": 50,
   "id": "9ca93010-176b-41cc-9f72-936f3fd9a1d7",
   "metadata": {
    "tags": []
   },
   "outputs": [
    {
     "name": "stdout",
     "output_type": "stream",
     "text": [
      "Number of rows matched = 105\n"
     ]
    },
    {
     "data": {
      "text/html": [
       "<div>\n",
       "<style scoped>\n",
       "    .dataframe tbody tr th:only-of-type {\n",
       "        vertical-align: middle;\n",
       "    }\n",
       "\n",
       "    .dataframe tbody tr th {\n",
       "        vertical-align: top;\n",
       "    }\n",
       "\n",
       "    .dataframe thead th {\n",
       "        text-align: right;\n",
       "    }\n",
       "</style>\n",
       "<table border=\"1\" class=\"dataframe\">\n",
       "  <thead>\n",
       "    <tr style=\"text-align: right;\">\n",
       "      <th></th>\n",
       "      <th>Month</th>\n",
       "      <th>Year</th>\n",
       "    </tr>\n",
       "  </thead>\n",
       "  <tbody>\n",
       "    <tr>\n",
       "      <th>2</th>\n",
       "      <td>01</td>\n",
       "      <td>1974</td>\n",
       "    </tr>\n",
       "    <tr>\n",
       "      <th>8</th>\n",
       "      <td>01</td>\n",
       "      <td>2014</td>\n",
       "    </tr>\n",
       "    <tr>\n",
       "      <th>11</th>\n",
       "      <td>01</td>\n",
       "      <td>2003</td>\n",
       "    </tr>\n",
       "    <tr>\n",
       "      <th>13</th>\n",
       "      <td>01</td>\n",
       "      <td>1990</td>\n",
       "    </tr>\n",
       "    <tr>\n",
       "      <th>44</th>\n",
       "      <td>01</td>\n",
       "      <td>2006</td>\n",
       "    </tr>\n",
       "  </tbody>\n",
       "</table>\n",
       "</div>"
      ],
      "text/plain": [
       "   Month  Year\n",
       "2     01  1974\n",
       "8     01  2014\n",
       "11    01  2003\n",
       "13    01  1990\n",
       "44    01  2006"
      ]
     },
     "execution_count": 50,
     "metadata": {},
     "output_type": "execute_result"
    }
   ],
   "source": [
    "print(f\"Number of rows matched = {df_with_missing_day_month_number.shape[0]}\")\n",
    "df_with_missing_day_month_number.head()"
   ]
  },
  {
   "cell_type": "code",
   "execution_count": 51,
   "id": "f5f9d128-53c8-40b9-886d-43ecc3ee5d1d",
   "metadata": {
    "tags": []
   },
   "outputs": [],
   "source": [
    "# Verify date components\n",
    "df_with_missing_day_month_number = verify(df_with_missing_day_month_number)"
   ]
  },
  {
   "cell_type": "code",
   "execution_count": 52,
   "id": "cc9ab44e-7a18-4395-bfbc-8b3cdb4f6467",
   "metadata": {
    "tags": []
   },
   "outputs": [],
   "source": [
    "# Convert 'Year' column to numeric\n",
    "df_with_missing_day_month_number['Year'] = pd.to_numeric(df_with_missing_day_month_number['Year'], errors='coerce')"
   ]
  },
  {
   "cell_type": "code",
   "execution_count": 53,
   "id": "de398fc1-b464-4e12-be46-309594c9e8a1",
   "metadata": {
    "tags": []
   },
   "outputs": [
    {
     "data": {
      "text/markdown": [
       "**Numer of rows with iter=1: 606**"
      ],
      "text/plain": [
       "<IPython.core.display.Markdown object>"
      ]
     },
     "metadata": {},
     "output_type": "display_data"
    },
    {
     "data": {
      "text/html": [
       "<div>\n",
       "<style scoped>\n",
       "    .dataframe tbody tr th:only-of-type {\n",
       "        vertical-align: middle;\n",
       "    }\n",
       "\n",
       "    .dataframe tbody tr th {\n",
       "        vertical-align: top;\n",
       "    }\n",
       "\n",
       "    .dataframe thead th {\n",
       "        text-align: right;\n",
       "    }\n",
       "</style>\n",
       "<table border=\"1\" class=\"dataframe\">\n",
       "  <thead>\n",
       "    <tr style=\"text-align: right;\">\n",
       "      <th></th>\n",
       "      <th>Code</th>\n",
       "      <th>Data</th>\n",
       "      <th>Iter</th>\n",
       "      <th>Day</th>\n",
       "      <th>Month</th>\n",
       "      <th>Year</th>\n",
       "    </tr>\n",
       "  </thead>\n",
       "  <tbody>\n",
       "    <tr>\n",
       "      <th>0</th>\n",
       "      <td>1012720972</td>\n",
       "      <td>.12, Noember 16- bad reaction to SpiceK2 - synthetic MJ- admitted to Crete Manor, Mcalester.</td>\n",
       "      <td>1</td>\n",
       "      <td>12</td>\n",
       "      <td>11</td>\n",
       "      <td>2016</td>\n",
       "    </tr>\n",
       "    <tr>\n",
       "      <th>2</th>\n",
       "      <td>1039574613</td>\n",
       "      <td>A pleasant 28 yo woman with no formal psychiatric history and with a h/o SCCA of the right tongue (s/p partial glossectomy and neck dissection in 8/1974) referred to psycho-oncology for assistance with adjustment issues following recovery. The patient does not meet criteria for a major mood or anxiety disorder. She is not at imminent risk of harm to self or others. She would benefit from psychotherapy to help her integrate her experience of cancer and the break-up of her engagement, and to think through how to continue to create a life for herself moving forward.</td>\n",
       "      <td>1</td>\n",
       "      <td>1</td>\n",
       "      <td>01</td>\n",
       "      <td>1974</td>\n",
       "    </tr>\n",
       "    <tr>\n",
       "      <th>3</th>\n",
       "      <td>1039963589</td>\n",
       "      <td>October 7, 01 [report_end]</td>\n",
       "      <td>1</td>\n",
       "      <td>7</td>\n",
       "      <td>10</td>\n",
       "      <td>2001</td>\n",
       "    </tr>\n",
       "    <tr>\n",
       "      <th>6</th>\n",
       "      <td>1054668034</td>\n",
       "      <td>)HTN, hypercholesterolemia, DM, sleep apnea,, nephrolithiasis. chronic renal impairment, DVT since July 1977 on enoxaparin.</td>\n",
       "      <td>1</td>\n",
       "      <td>1</td>\n",
       "      <td>07</td>\n",
       "      <td>1977</td>\n",
       "    </tr>\n",
       "    <tr>\n",
       "      <th>8</th>\n",
       "      <td>1125769793</td>\n",
       "      <td>Since 10/2014: Fatigued, more forgetful, impaired dexterity on her left hand. MRI reveals an approximately 4.2cm x 3.3cm x 2.5cm right parietal enhancing mass with surrounding edema</td>\n",
       "      <td>1</td>\n",
       "      <td>1</td>\n",
       "      <td>01</td>\n",
       "      <td>2014</td>\n",
       "    </tr>\n",
       "  </tbody>\n",
       "</table>\n",
       "</div>"
      ],
      "text/plain": [
       "         Code  \\\n",
       "0  1012720972   \n",
       "2  1039574613   \n",
       "3  1039963589   \n",
       "6  1054668034   \n",
       "8  1125769793   \n",
       "\n",
       "                                                                                                                                                                                                                                                                                                                                                                                                                                                                                                                                                                                        Data  \\\n",
       "0                                                                                                                                                                                                                                                                                                                                                                                                                                                                                               .12, Noember 16- bad reaction to SpiceK2 - synthetic MJ- admitted to Crete Manor, Mcalester.   \n",
       "2  A pleasant 28 yo woman with no formal psychiatric history and with a h/o SCCA of the right tongue (s/p partial glossectomy and neck dissection in 8/1974) referred to psycho-oncology for assistance with adjustment issues following recovery. The patient does not meet criteria for a major mood or anxiety disorder. She is not at imminent risk of harm to self or others. She would benefit from psychotherapy to help her integrate her experience of cancer and the break-up of her engagement, and to think through how to continue to create a life for herself moving forward.   \n",
       "3                                                                                                                                                                                                                                                                                                                                                                                                                                                                                                                                                                 October 7, 01 [report_end]   \n",
       "6                                                                                                                                                                                                                                                                                                                                                                                                                                                                )HTN, hypercholesterolemia, DM, sleep apnea,, nephrolithiasis. chronic renal impairment, DVT since July 1977 on enoxaparin.   \n",
       "8                                                                                                                                                                                                                                                                                                                                                                                                      Since 10/2014: Fatigued, more forgetful, impaired dexterity on her left hand. MRI reveals an approximately 4.2cm x 3.3cm x 2.5cm right parietal enhancing mass with surrounding edema   \n",
       "\n",
       "   Iter Day Month  Year  \n",
       "0     1  12    11  2016  \n",
       "2     1   1    01  1974  \n",
       "3     1   7    10  2001  \n",
       "6     1   1    07  1977  \n",
       "8     1   1    01  2014  "
      ]
     },
     "metadata": {},
     "output_type": "display_data"
    },
    {
     "data": {
      "text/markdown": [
       "**Numer of rows with iter=0: 109**"
      ],
      "text/plain": [
       "<IPython.core.display.Markdown object>"
      ]
     },
     "metadata": {},
     "output_type": "display_data"
    },
    {
     "data": {
      "text/html": [
       "<div>\n",
       "<style scoped>\n",
       "    .dataframe tbody tr th:only-of-type {\n",
       "        vertical-align: middle;\n",
       "    }\n",
       "\n",
       "    .dataframe tbody tr th {\n",
       "        vertical-align: top;\n",
       "    }\n",
       "\n",
       "    .dataframe thead th {\n",
       "        text-align: right;\n",
       "    }\n",
       "</style>\n",
       "<table border=\"1\" class=\"dataframe\">\n",
       "  <thead>\n",
       "    <tr style=\"text-align: right;\">\n",
       "      <th></th>\n",
       "      <th>Code</th>\n",
       "      <th>Data</th>\n",
       "      <th>Iter</th>\n",
       "      <th>Day</th>\n",
       "      <th>Month</th>\n",
       "      <th>Year</th>\n",
       "    </tr>\n",
       "  </thead>\n",
       "  <tbody>\n",
       "    <tr>\n",
       "      <th>1</th>\n",
       "      <td>1039370009</td>\n",
       "      <td>.April, 5 97: made a phone call to Mom and Mom commented that he was talking very fast, hard to interrupt, but was in super happy spirits, so didn't make a big deal of it.</td>\n",
       "      <td>0</td>\n",
       "      <td>0</td>\n",
       "      <td>0</td>\n",
       "      <td>0</td>\n",
       "    </tr>\n",
       "    <tr>\n",
       "      <th>4</th>\n",
       "      <td>1048901075</td>\n",
       "      <td>July, 4, 01 Primary Care Doctor:</td>\n",
       "      <td>0</td>\n",
       "      <td>0</td>\n",
       "      <td>0</td>\n",
       "      <td>0</td>\n",
       "    </tr>\n",
       "    <tr>\n",
       "      <th>5</th>\n",
       "      <td>1054311047</td>\n",
       "      <td>)and 8mo in 2009</td>\n",
       "      <td>0</td>\n",
       "      <td>0</td>\n",
       "      <td>0</td>\n",
       "      <td>0</td>\n",
       "    </tr>\n",
       "    <tr>\n",
       "      <th>7</th>\n",
       "      <td>1082469285</td>\n",
       "      <td>Septeber, 10, 70 CPT Code: 90792: With medical services</td>\n",
       "      <td>0</td>\n",
       "      <td>0</td>\n",
       "      <td>0</td>\n",
       "      <td>0</td>\n",
       "    </tr>\n",
       "    <tr>\n",
       "      <th>24</th>\n",
       "      <td>1304079161</td>\n",
       "      <td>Pt joined Army reserves in 2001 and has 3 years left in this commitment.-Mental Status Exam Was the exam performed? (If not, indicate reason): Yes</td>\n",
       "      <td>0</td>\n",
       "      <td>0</td>\n",
       "      <td>0</td>\n",
       "      <td>0</td>\n",
       "    </tr>\n",
       "  </tbody>\n",
       "</table>\n",
       "</div>"
      ],
      "text/plain": [
       "          Code  \\\n",
       "1   1039370009   \n",
       "4   1048901075   \n",
       "5   1054311047   \n",
       "7   1082469285   \n",
       "24  1304079161   \n",
       "\n",
       "                                                                                                                                                                           Data  \\\n",
       "1   .April, 5 97: made a phone call to Mom and Mom commented that he was talking very fast, hard to interrupt, but was in super happy spirits, so didn't make a big deal of it.   \n",
       "4                                                                                                                                              July, 4, 01 Primary Care Doctor:   \n",
       "5                                                                                                                                                              )and 8mo in 2009   \n",
       "7                                                                                                                       Septeber, 10, 70 CPT Code: 90792: With medical services   \n",
       "24                           Pt joined Army reserves in 2001 and has 3 years left in this commitment.-Mental Status Exam Was the exam performed? (If not, indicate reason): Yes   \n",
       "\n",
       "    Iter Day Month  Year  \n",
       "1      0   0     0     0  \n",
       "4      0   0     0     0  \n",
       "5      0   0     0     0  \n",
       "7      0   0     0     0  \n",
       "24     0   0     0     0  "
      ]
     },
     "metadata": {},
     "output_type": "display_data"
    }
   ],
   "source": [
    "# Save the extracted date components to the main dataframe\n",
    "criteria = (df.Iter == 0) & (df_with_missing_day_month_number['Year'].notna()) & (df_with_missing_day_month_number['Year'] > 0)\n",
    "df.loc[criteria, columns] = df_with_missing_day_month_number[columns]\n",
    "df.loc[criteria, 'Iter'] = iter + 1\n",
    "\n",
    "info()"
   ]
  },
  {
   "cell_type": "code",
   "execution_count": null,
   "id": "4d153c61-d52b-4c2a-8288-5506601f8574",
   "metadata": {},
   "outputs": [],
   "source": []
  },
  {
   "cell_type": "code",
   "execution_count": 54,
   "id": "f32083aa-ca54-4c2c-9e37-cf67e3aecf03",
   "metadata": {
    "tags": []
   },
   "outputs": [],
   "source": [
    "regex_missing_day_month = r\"(\\d{4})\""
   ]
  },
  {
   "cell_type": "code",
   "execution_count": 55,
   "id": "2b147bcd-5097-4b57-8abd-2e614010a4bf",
   "metadata": {
    "tags": []
   },
   "outputs": [],
   "source": [
    "# Apply the regex to extract date components\n",
    "df_with_missing_day_month = df[df.Iter == 0].Data.str.extract(regex_missing_day_month)\n",
    "df_with_missing_day_month.dropna(inplace=True)\n",
    "df_with_missing_day_month.columns = ['Year']"
   ]
  },
  {
   "cell_type": "code",
   "execution_count": 56,
   "id": "a96d00e9-0fd8-4ca1-9cb6-e012d0924598",
   "metadata": {
    "tags": []
   },
   "outputs": [
    {
     "name": "stdout",
     "output_type": "stream",
     "text": [
      "Code                                                  1082469285\n",
      "Raw      Septeber, 10, 70 CPT Code: 90792: With medical services\n",
      "Data     Septeber, 10, 70 CPT Code: 90792: With medical services\n",
      "Iter                                                           0\n",
      "Day                                                            0\n",
      "Month                                                          0\n",
      "Year                                                           0\n",
      "Date                                                           0\n",
      "Name: 7, dtype: object\n"
     ]
    }
   ],
   "source": [
    "row_7 = df.iloc[7]  # Note: DataFrame index starts from 0, so row 7 corresponds to index 6\n",
    "print(row_7)"
   ]
  },
  {
   "cell_type": "code",
   "execution_count": 57,
   "id": "a6d96ef2-f5ff-41d9-9cc2-1287441cdba2",
   "metadata": {
    "tags": []
   },
   "outputs": [
    {
     "name": "stdout",
     "output_type": "stream",
     "text": [
      "Number of rows matched = 57\n"
     ]
    },
    {
     "data": {
      "text/html": [
       "<div>\n",
       "<style scoped>\n",
       "    .dataframe tbody tr th:only-of-type {\n",
       "        vertical-align: middle;\n",
       "    }\n",
       "\n",
       "    .dataframe tbody tr th {\n",
       "        vertical-align: top;\n",
       "    }\n",
       "\n",
       "    .dataframe thead th {\n",
       "        text-align: right;\n",
       "    }\n",
       "</style>\n",
       "<table border=\"1\" class=\"dataframe\">\n",
       "  <thead>\n",
       "    <tr style=\"text-align: right;\">\n",
       "      <th></th>\n",
       "      <th>Year</th>\n",
       "    </tr>\n",
       "  </thead>\n",
       "  <tbody>\n",
       "    <tr>\n",
       "      <th>5</th>\n",
       "      <td>2009</td>\n",
       "    </tr>\n",
       "    <tr>\n",
       "      <th>7</th>\n",
       "      <td>9079</td>\n",
       "    </tr>\n",
       "    <tr>\n",
       "      <th>24</th>\n",
       "      <td>2001</td>\n",
       "    </tr>\n",
       "    <tr>\n",
       "      <th>34</th>\n",
       "      <td>1975</td>\n",
       "    </tr>\n",
       "    <tr>\n",
       "      <th>59</th>\n",
       "      <td>1975</td>\n",
       "    </tr>\n",
       "  </tbody>\n",
       "</table>\n",
       "</div>"
      ],
      "text/plain": [
       "    Year\n",
       "5   2009\n",
       "7   9079\n",
       "24  2001\n",
       "34  1975\n",
       "59  1975"
      ]
     },
     "execution_count": 57,
     "metadata": {},
     "output_type": "execute_result"
    }
   ],
   "source": [
    "print(f\"Number of rows matched = {df_with_missing_day_month.shape[0]}\")\n",
    "df_with_missing_day_month.head()"
   ]
  },
  {
   "cell_type": "code",
   "execution_count": 58,
   "id": "79736d8c-8c22-4ec3-91d0-fa075d41050d",
   "metadata": {
    "tags": []
   },
   "outputs": [],
   "source": [
    "# Verify date components\n",
    "df_with_missing_day_month = verify(df_with_missing_day_month)"
   ]
  },
  {
   "cell_type": "code",
   "execution_count": 59,
   "id": "3f68ea9a-3865-4a5e-a03c-31908affab43",
   "metadata": {
    "tags": []
   },
   "outputs": [],
   "source": [
    "# Convert 'Year' column to numeric\n",
    "df_with_missing_day_month['Year'] = pd.to_numeric(df_with_missing_day_month['Year'], errors='coerce')"
   ]
  },
  {
   "cell_type": "code",
   "execution_count": 60,
   "id": "25d23fe6-516b-403e-b0f1-5db786ef75be",
   "metadata": {
    "tags": []
   },
   "outputs": [
    {
     "data": {
      "text/markdown": [
       "**Numer of rows with iter=1: 663**"
      ],
      "text/plain": [
       "<IPython.core.display.Markdown object>"
      ]
     },
     "metadata": {},
     "output_type": "display_data"
    },
    {
     "data": {
      "text/html": [
       "<div>\n",
       "<style scoped>\n",
       "    .dataframe tbody tr th:only-of-type {\n",
       "        vertical-align: middle;\n",
       "    }\n",
       "\n",
       "    .dataframe tbody tr th {\n",
       "        vertical-align: top;\n",
       "    }\n",
       "\n",
       "    .dataframe thead th {\n",
       "        text-align: right;\n",
       "    }\n",
       "</style>\n",
       "<table border=\"1\" class=\"dataframe\">\n",
       "  <thead>\n",
       "    <tr style=\"text-align: right;\">\n",
       "      <th></th>\n",
       "      <th>Code</th>\n",
       "      <th>Data</th>\n",
       "      <th>Iter</th>\n",
       "      <th>Day</th>\n",
       "      <th>Month</th>\n",
       "      <th>Year</th>\n",
       "    </tr>\n",
       "  </thead>\n",
       "  <tbody>\n",
       "    <tr>\n",
       "      <th>0</th>\n",
       "      <td>1012720972</td>\n",
       "      <td>.12, Noember 16- bad reaction to SpiceK2 - synthetic MJ- admitted to Crete Manor, Mcalester.</td>\n",
       "      <td>1</td>\n",
       "      <td>12</td>\n",
       "      <td>11</td>\n",
       "      <td>2016</td>\n",
       "    </tr>\n",
       "    <tr>\n",
       "      <th>2</th>\n",
       "      <td>1039574613</td>\n",
       "      <td>A pleasant 28 yo woman with no formal psychiatric history and with a h/o SCCA of the right tongue (s/p partial glossectomy and neck dissection in 8/1974) referred to psycho-oncology for assistance with adjustment issues following recovery. The patient does not meet criteria for a major mood or anxiety disorder. She is not at imminent risk of harm to self or others. She would benefit from psychotherapy to help her integrate her experience of cancer and the break-up of her engagement, and to think through how to continue to create a life for herself moving forward.</td>\n",
       "      <td>1</td>\n",
       "      <td>1</td>\n",
       "      <td>01</td>\n",
       "      <td>1974</td>\n",
       "    </tr>\n",
       "    <tr>\n",
       "      <th>3</th>\n",
       "      <td>1039963589</td>\n",
       "      <td>October 7, 01 [report_end]</td>\n",
       "      <td>1</td>\n",
       "      <td>7</td>\n",
       "      <td>10</td>\n",
       "      <td>2001</td>\n",
       "    </tr>\n",
       "    <tr>\n",
       "      <th>5</th>\n",
       "      <td>1054311047</td>\n",
       "      <td>)and 8mo in 2009</td>\n",
       "      <td>1</td>\n",
       "      <td>1</td>\n",
       "      <td>1</td>\n",
       "      <td>2009</td>\n",
       "    </tr>\n",
       "    <tr>\n",
       "      <th>6</th>\n",
       "      <td>1054668034</td>\n",
       "      <td>)HTN, hypercholesterolemia, DM, sleep apnea,, nephrolithiasis. chronic renal impairment, DVT since July 1977 on enoxaparin.</td>\n",
       "      <td>1</td>\n",
       "      <td>1</td>\n",
       "      <td>07</td>\n",
       "      <td>1977</td>\n",
       "    </tr>\n",
       "  </tbody>\n",
       "</table>\n",
       "</div>"
      ],
      "text/plain": [
       "         Code  \\\n",
       "0  1012720972   \n",
       "2  1039574613   \n",
       "3  1039963589   \n",
       "5  1054311047   \n",
       "6  1054668034   \n",
       "\n",
       "                                                                                                                                                                                                                                                                                                                                                                                                                                                                                                                                                                                        Data  \\\n",
       "0                                                                                                                                                                                                                                                                                                                                                                                                                                                                                               .12, Noember 16- bad reaction to SpiceK2 - synthetic MJ- admitted to Crete Manor, Mcalester.   \n",
       "2  A pleasant 28 yo woman with no formal psychiatric history and with a h/o SCCA of the right tongue (s/p partial glossectomy and neck dissection in 8/1974) referred to psycho-oncology for assistance with adjustment issues following recovery. The patient does not meet criteria for a major mood or anxiety disorder. She is not at imminent risk of harm to self or others. She would benefit from psychotherapy to help her integrate her experience of cancer and the break-up of her engagement, and to think through how to continue to create a life for herself moving forward.   \n",
       "3                                                                                                                                                                                                                                                                                                                                                                                                                                                                                                                                                                 October 7, 01 [report_end]   \n",
       "5                                                                                                                                                                                                                                                                                                                                                                                                                                                                                                                                                                           )and 8mo in 2009   \n",
       "6                                                                                                                                                                                                                                                                                                                                                                                                                                                                )HTN, hypercholesterolemia, DM, sleep apnea,, nephrolithiasis. chronic renal impairment, DVT since July 1977 on enoxaparin.   \n",
       "\n",
       "   Iter Day Month  Year  \n",
       "0     1  12    11  2016  \n",
       "2     1   1    01  1974  \n",
       "3     1   7    10  2001  \n",
       "5     1   1     1  2009  \n",
       "6     1   1    07  1977  "
      ]
     },
     "metadata": {},
     "output_type": "display_data"
    },
    {
     "data": {
      "text/markdown": [
       "**Numer of rows with iter=0: 52**"
      ],
      "text/plain": [
       "<IPython.core.display.Markdown object>"
      ]
     },
     "metadata": {},
     "output_type": "display_data"
    },
    {
     "data": {
      "text/html": [
       "<div>\n",
       "<style scoped>\n",
       "    .dataframe tbody tr th:only-of-type {\n",
       "        vertical-align: middle;\n",
       "    }\n",
       "\n",
       "    .dataframe tbody tr th {\n",
       "        vertical-align: top;\n",
       "    }\n",
       "\n",
       "    .dataframe thead th {\n",
       "        text-align: right;\n",
       "    }\n",
       "</style>\n",
       "<table border=\"1\" class=\"dataframe\">\n",
       "  <thead>\n",
       "    <tr style=\"text-align: right;\">\n",
       "      <th></th>\n",
       "      <th>Code</th>\n",
       "      <th>Data</th>\n",
       "      <th>Iter</th>\n",
       "      <th>Day</th>\n",
       "      <th>Month</th>\n",
       "      <th>Year</th>\n",
       "    </tr>\n",
       "  </thead>\n",
       "  <tbody>\n",
       "    <tr>\n",
       "      <th>1</th>\n",
       "      <td>1039370009</td>\n",
       "      <td>.April, 5 97: made a phone call to Mom and Mom commented that he was talking very fast, hard to interrupt, but was in super happy spirits, so didn't make a big deal of it.</td>\n",
       "      <td>0</td>\n",
       "      <td>0</td>\n",
       "      <td>0</td>\n",
       "      <td>0</td>\n",
       "    </tr>\n",
       "    <tr>\n",
       "      <th>4</th>\n",
       "      <td>1048901075</td>\n",
       "      <td>July, 4, 01 Primary Care Doctor:</td>\n",
       "      <td>0</td>\n",
       "      <td>0</td>\n",
       "      <td>0</td>\n",
       "      <td>0</td>\n",
       "    </tr>\n",
       "    <tr>\n",
       "      <th>55</th>\n",
       "      <td>1676425054</td>\n",
       "      <td>n Abilify (added to Lexapro + Wellbutrin in Septmber, 5,  97)</td>\n",
       "      <td>0</td>\n",
       "      <td>0</td>\n",
       "      <td>0</td>\n",
       "      <td>0</td>\n",
       "    </tr>\n",
       "    <tr>\n",
       "      <th>83</th>\n",
       "      <td>2074807125</td>\n",
       "      <td>.  Pt reports h/o difficulty with EtOH and opioids. EtOH: 1st use at age 10, regular use beginning in high school, more problematic at age 25 when started losing things.  Drinking 12 beers/day over past year since returning to State College from Alaska.  Unsure of heaviest use period.  h/o frequent blackouts.  Has passed out and woken up in variety of places.  h/o withdrawal symptoms, 1st detox at age 25, no h/o withdrawal seizure, no DTs.  opioids: 1st use at age 21 (perocet).  Began using daily at age 25, at worst was using 8 to 10 percocets per day (depending on dose).  Detox in 18, Septemer, 01, was using perioidically since back in State College, but has primarily been drinking.  Last use 3 mths ago.  no h/o suboxone or methadone.  No h/o accidental OD.  No h/o heroin use.  No h/o IVDU.  tobacco: 1 ppd since age 16, some interest in quitting, not right now.  H/o quitting for a week.</td>\n",
       "      <td>0</td>\n",
       "      <td>0</td>\n",
       "      <td>0</td>\n",
       "      <td>0</td>\n",
       "    </tr>\n",
       "    <tr>\n",
       "      <th>89</th>\n",
       "      <td>2162384920</td>\n",
       "      <td>Hep C and HIV negative, LFTs WNL (Augst, 11 05)Problems Opioid dependence</td>\n",
       "      <td>0</td>\n",
       "      <td>0</td>\n",
       "      <td>0</td>\n",
       "      <td>0</td>\n",
       "    </tr>\n",
       "  </tbody>\n",
       "</table>\n",
       "</div>"
      ],
      "text/plain": [
       "          Code  \\\n",
       "1   1039370009   \n",
       "4   1048901075   \n",
       "55  1676425054   \n",
       "83  2074807125   \n",
       "89  2162384920   \n",
       "\n",
       "                                                                                                                                                                                                                                                                                                                                                                                                                                                                                                                                                                                                                                                                                                                                                                                                                                                                                                                                    Data  \\\n",
       "1                                                                                                                                                                                                                                                                                                                                                                                                                                                                                                                                                                                                                                                                                                                                                            .April, 5 97: made a phone call to Mom and Mom commented that he was talking very fast, hard to interrupt, but was in super happy spirits, so didn't make a big deal of it.   \n",
       "4                                                                                                                                                                                                                                                                                                                                                                                                                                                                                                                                                                                                                                                                                                                                                                                                                                                                                                       July, 4, 01 Primary Care Doctor:   \n",
       "55                                                                                                                                                                                                                                                                                                                                                                                                                                                                                                                                                                                                                                                                                                                                                                                                                                                                         n Abilify (added to Lexapro + Wellbutrin in Septmber, 5,  97)   \n",
       "83  .  Pt reports h/o difficulty with EtOH and opioids. EtOH: 1st use at age 10, regular use beginning in high school, more problematic at age 25 when started losing things.  Drinking 12 beers/day over past year since returning to State College from Alaska.  Unsure of heaviest use period.  h/o frequent blackouts.  Has passed out and woken up in variety of places.  h/o withdrawal symptoms, 1st detox at age 25, no h/o withdrawal seizure, no DTs.  opioids: 1st use at age 21 (perocet).  Began using daily at age 25, at worst was using 8 to 10 percocets per day (depending on dose).  Detox in 18, Septemer, 01, was using perioidically since back in State College, but has primarily been drinking.  Last use 3 mths ago.  no h/o suboxone or methadone.  No h/o accidental OD.  No h/o heroin use.  No h/o IVDU.  tobacco: 1 ppd since age 16, some interest in quitting, not right now.  H/o quitting for a week.   \n",
       "89                                                                                                                                                                                                                                                                                                                                                                                                                                                                                                                                                                                                                                                                                                                                                                                                                                                             Hep C and HIV negative, LFTs WNL (Augst, 11 05)Problems Opioid dependence   \n",
       "\n",
       "    Iter Day Month  Year  \n",
       "1      0   0     0     0  \n",
       "4      0   0     0     0  \n",
       "55     0   0     0     0  \n",
       "83     0   0     0     0  \n",
       "89     0   0     0     0  "
      ]
     },
     "metadata": {},
     "output_type": "display_data"
    }
   ],
   "source": [
    "# Save the extracted date components to the main dataframe\n",
    "criteria = (df.Iter == 0) & (df_with_missing_day_month['Year'].notna()) & (df_with_missing_day_month['Year'] > 0)\n",
    "df.loc[criteria, columns] = df_with_missing_day_month[columns]\n",
    "df.loc[criteria, 'Iter'] = iter + 1\n",
    "\n",
    "info()"
   ]
  },
  {
   "cell_type": "code",
   "execution_count": 61,
   "id": "a149bfe3-c107-47e0-b2f5-b7fe5555feb9",
   "metadata": {},
   "outputs": [],
   "source": [
    "# Combine 'Day', 'Month', and 'Year' columns into a new 'Date' column\n",
    "df['Date'] = pd.to_datetime(df[['Year', 'Month', 'Day']], errors='coerce')"
   ]
  },
  {
   "cell_type": "code",
   "execution_count": 62,
   "id": "b436dd0a-98b1-49b4-8142-c1e8bde0ed68",
   "metadata": {
    "tags": []
   },
   "outputs": [
    {
     "data": {
      "text/html": [
       "<div>\n",
       "<style scoped>\n",
       "    .dataframe tbody tr th:only-of-type {\n",
       "        vertical-align: middle;\n",
       "    }\n",
       "\n",
       "    .dataframe tbody tr th {\n",
       "        vertical-align: top;\n",
       "    }\n",
       "\n",
       "    .dataframe thead th {\n",
       "        text-align: right;\n",
       "    }\n",
       "</style>\n",
       "<table border=\"1\" class=\"dataframe\">\n",
       "  <thead>\n",
       "    <tr style=\"text-align: right;\">\n",
       "      <th></th>\n",
       "      <th>Code</th>\n",
       "      <th>Raw</th>\n",
       "      <th>Data</th>\n",
       "      <th>Iter</th>\n",
       "      <th>Day</th>\n",
       "      <th>Month</th>\n",
       "      <th>Year</th>\n",
       "      <th>Date</th>\n",
       "    </tr>\n",
       "  </thead>\n",
       "  <tbody>\n",
       "    <tr>\n",
       "      <th>0</th>\n",
       "      <td>1012720972</td>\n",
       "      <td>.12, Noember 16- bad reaction to SpiceK2 - synthetic MJ- admitted to Crete Manor, Mcalester.</td>\n",
       "      <td>.12, Noember 16- bad reaction to SpiceK2 - synthetic MJ- admitted to Crete Manor, Mcalester.</td>\n",
       "      <td>1</td>\n",
       "      <td>12</td>\n",
       "      <td>11</td>\n",
       "      <td>2016</td>\n",
       "      <td>2016-11-12</td>\n",
       "    </tr>\n",
       "    <tr>\n",
       "      <th>1</th>\n",
       "      <td>1039370009</td>\n",
       "      <td>.April, 5 97: made a phone call to Mom and Mom commented that he was talking very fast, hard to interrupt, but was in super happy spirits, so didn't make a big deal of it.</td>\n",
       "      <td>.April, 5 97: made a phone call to Mom and Mom commented that he was talking very fast, hard to interrupt, but was in super happy spirits, so didn't make a big deal of it.</td>\n",
       "      <td>0</td>\n",
       "      <td>0</td>\n",
       "      <td>0</td>\n",
       "      <td>0</td>\n",
       "      <td>NaT</td>\n",
       "    </tr>\n",
       "    <tr>\n",
       "      <th>2</th>\n",
       "      <td>1039574613</td>\n",
       "      <td>A pleasant 28 yo woman with no formal psychiatric history and with a h/o SCCA of the right tongue (s/p partial glossectomy and neck dissection in 8/1974) referred to psycho-oncology for assistance with adjustment issues following recovery. The patient does not meet criteria for a major mood or anxiety disorder. She is not at imminent risk of harm to self or others. She would benefit from psychotherapy to help her integrate her experience of cancer and the break-up of her engagement, and to think through how to continue to create a life for herself moving forward.</td>\n",
       "      <td>A pleasant 28 yo woman with no formal psychiatric history and with a h/o SCCA of the right tongue (s/p partial glossectomy and neck dissection in 8/1974) referred to psycho-oncology for assistance with adjustment issues following recovery. The patient does not meet criteria for a major mood or anxiety disorder. She is not at imminent risk of harm to self or others. She would benefit from psychotherapy to help her integrate her experience of cancer and the break-up of her engagement, and to think through how to continue to create a life for herself moving forward.</td>\n",
       "      <td>1</td>\n",
       "      <td>1</td>\n",
       "      <td>01</td>\n",
       "      <td>1974</td>\n",
       "      <td>1974-01-01</td>\n",
       "    </tr>\n",
       "    <tr>\n",
       "      <th>3</th>\n",
       "      <td>1039963589</td>\n",
       "      <td>October 7, 01 [report_end]</td>\n",
       "      <td>October 7, 01 [report_end]</td>\n",
       "      <td>1</td>\n",
       "      <td>7</td>\n",
       "      <td>10</td>\n",
       "      <td>2001</td>\n",
       "      <td>2001-10-07</td>\n",
       "    </tr>\n",
       "    <tr>\n",
       "      <th>4</th>\n",
       "      <td>1048901075</td>\n",
       "      <td>July, 4, 01 Primary Care Doctor:</td>\n",
       "      <td>July, 4, 01 Primary Care Doctor:</td>\n",
       "      <td>0</td>\n",
       "      <td>0</td>\n",
       "      <td>0</td>\n",
       "      <td>0</td>\n",
       "      <td>NaT</td>\n",
       "    </tr>\n",
       "  </tbody>\n",
       "</table>\n",
       "</div>"
      ],
      "text/plain": [
       "         Code  \\\n",
       "0  1012720972   \n",
       "1  1039370009   \n",
       "2  1039574613   \n",
       "3  1039963589   \n",
       "4  1048901075   \n",
       "\n",
       "                                                                                                                                                                                                                                                                                                                                                                                                                                                                                                                                                                                         Raw  \\\n",
       "0                                                                                                                                                                                                                                                                                                                                                                                                                                                                                               .12, Noember 16- bad reaction to SpiceK2 - synthetic MJ- admitted to Crete Manor, Mcalester.   \n",
       "1                                                                                                                                                                                                                                                                                                                                                                                                                .April, 5 97: made a phone call to Mom and Mom commented that he was talking very fast, hard to interrupt, but was in super happy spirits, so didn't make a big deal of it.   \n",
       "2  A pleasant 28 yo woman with no formal psychiatric history and with a h/o SCCA of the right tongue (s/p partial glossectomy and neck dissection in 8/1974) referred to psycho-oncology for assistance with adjustment issues following recovery. The patient does not meet criteria for a major mood or anxiety disorder. She is not at imminent risk of harm to self or others. She would benefit from psychotherapy to help her integrate her experience of cancer and the break-up of her engagement, and to think through how to continue to create a life for herself moving forward.   \n",
       "3                                                                                                                                                                                                                                                                                                                                                                                                                                                                                                                                                                 October 7, 01 [report_end]   \n",
       "4                                                                                                                                                                                                                                                                                                                                                                                                                                                                                                                                                           July, 4, 01 Primary Care Doctor:   \n",
       "\n",
       "                                                                                                                                                                                                                                                                                                                                                                                                                                                                                                                                                                                        Data  \\\n",
       "0                                                                                                                                                                                                                                                                                                                                                                                                                                                                                               .12, Noember 16- bad reaction to SpiceK2 - synthetic MJ- admitted to Crete Manor, Mcalester.   \n",
       "1                                                                                                                                                                                                                                                                                                                                                                                                                .April, 5 97: made a phone call to Mom and Mom commented that he was talking very fast, hard to interrupt, but was in super happy spirits, so didn't make a big deal of it.   \n",
       "2  A pleasant 28 yo woman with no formal psychiatric history and with a h/o SCCA of the right tongue (s/p partial glossectomy and neck dissection in 8/1974) referred to psycho-oncology for assistance with adjustment issues following recovery. The patient does not meet criteria for a major mood or anxiety disorder. She is not at imminent risk of harm to self or others. She would benefit from psychotherapy to help her integrate her experience of cancer and the break-up of her engagement, and to think through how to continue to create a life for herself moving forward.   \n",
       "3                                                                                                                                                                                                                                                                                                                                                                                                                                                                                                                                                                 October 7, 01 [report_end]   \n",
       "4                                                                                                                                                                                                                                                                                                                                                                                                                                                                                                                                                           July, 4, 01 Primary Care Doctor:   \n",
       "\n",
       "   Iter Day Month  Year       Date  \n",
       "0     1  12    11  2016 2016-11-12  \n",
       "1     0   0     0     0        NaT  \n",
       "2     1   1    01  1974 1974-01-01  \n",
       "3     1   7    10  2001 2001-10-07  \n",
       "4     0   0     0     0        NaT  "
      ]
     },
     "execution_count": 62,
     "metadata": {},
     "output_type": "execute_result"
    }
   ],
   "source": [
    "df.head()"
   ]
  },
  {
   "cell_type": "code",
   "execution_count": 64,
   "id": "8d4f3815-b7e4-4f4f-9c84-cd32a58f9b12",
   "metadata": {},
   "outputs": [],
   "source": [
    "# Sort DataFrame by 'Date' column in ascending order\n",
    "df.sort_values(by=['Date', 'Raw'], inplace=True)"
   ]
  },
  {
   "cell_type": "code",
   "execution_count": 67,
   "id": "cc66bcc7-0d7b-4ba6-826e-4d5191734480",
   "metadata": {
    "tags": []
   },
   "outputs": [],
   "source": [
    "# Export DataFrame to a CSV file with specified fields\n",
    "df.to_csv('output/results.csv', columns=['Code', 'Raw', 'Day', 'Month', 'Year', 'Date'], index=False)"
   ]
  },
  {
   "cell_type": "code",
   "execution_count": null,
   "id": "78d523fb-c53d-4a0f-b42d-5c1988fe48f4",
   "metadata": {},
   "outputs": [],
   "source": []
  },
  {
   "cell_type": "code",
   "execution_count": null,
   "id": "d8ce178b-0b2c-4afe-9b32-5cc51e2adf9e",
   "metadata": {},
   "outputs": [],
   "source": []
  }
 ],
 "metadata": {
  "kernelspec": {
   "display_name": "Python 3 (ipykernel)",
   "language": "python",
   "name": "python3"
  },
  "language_info": {
   "codemirror_mode": {
    "name": "ipython",
    "version": 3
   },
   "file_extension": ".py",
   "mimetype": "text/x-python",
   "name": "python",
   "nbconvert_exporter": "python",
   "pygments_lexer": "ipython3",
   "version": "3.11.4"
  }
 },
 "nbformat": 4,
 "nbformat_minor": 5
}
